{
 "cells": [
  {
   "cell_type": "markdown",
   "id": "cfd62af0",
   "metadata": {},
   "source": [
    "## 시리즈와 데이터프레임"
   ]
  },
  {
   "cell_type": "code",
   "execution_count": 1,
   "id": "a52bdf2c",
   "metadata": {},
   "outputs": [],
   "source": [
    "import pandas as pd"
   ]
  },
  {
   "cell_type": "code",
   "execution_count": 2,
   "id": "4de0d7a2",
   "metadata": {},
   "outputs": [],
   "source": [
    "mpg = pd.read_csv(\"C:/Users/samsung/Desktop/datasets/mpg.csv\")"
   ]
  },
  {
   "cell_type": "code",
   "execution_count": 4,
   "id": "01c48e0a",
   "metadata": {},
   "outputs": [
    {
     "data": {
      "text/plain": [
       "0          a4\n",
       "1          a4\n",
       "2          a4\n",
       "3          a4\n",
       "4          a4\n",
       "        ...  \n",
       "229    passat\n",
       "230    passat\n",
       "231    passat\n",
       "232    passat\n",
       "233    passat\n",
       "Name: model, Length: 234, dtype: object"
      ]
     },
     "execution_count": 4,
     "metadata": {},
     "output_type": "execute_result"
    }
   ],
   "source": [
    "# 시리즈 (컬럼 1개)\n",
    "mpg['model'] "
   ]
  },
  {
   "cell_type": "code",
   "execution_count": 3,
   "id": "6ed0cffb",
   "metadata": {
    "scrolled": true
   },
   "outputs": [
    {
     "data": {
      "text/html": [
       "<div>\n",
       "<style scoped>\n",
       "    .dataframe tbody tr th:only-of-type {\n",
       "        vertical-align: middle;\n",
       "    }\n",
       "\n",
       "    .dataframe tbody tr th {\n",
       "        vertical-align: top;\n",
       "    }\n",
       "\n",
       "    .dataframe thead th {\n",
       "        text-align: right;\n",
       "    }\n",
       "</style>\n",
       "<table border=\"1\" class=\"dataframe\">\n",
       "  <thead>\n",
       "    <tr style=\"text-align: right;\">\n",
       "      <th></th>\n",
       "      <th>manufacturer</th>\n",
       "      <th>model</th>\n",
       "      <th>displ</th>\n",
       "      <th>year</th>\n",
       "      <th>cyl</th>\n",
       "      <th>trans</th>\n",
       "      <th>drv</th>\n",
       "      <th>cty</th>\n",
       "      <th>hwy</th>\n",
       "      <th>fl</th>\n",
       "      <th>class</th>\n",
       "    </tr>\n",
       "  </thead>\n",
       "  <tbody>\n",
       "    <tr>\n",
       "      <th>0</th>\n",
       "      <td>audi</td>\n",
       "      <td>a4</td>\n",
       "      <td>1.8</td>\n",
       "      <td>1999</td>\n",
       "      <td>4</td>\n",
       "      <td>auto(l5)</td>\n",
       "      <td>f</td>\n",
       "      <td>18</td>\n",
       "      <td>29</td>\n",
       "      <td>p</td>\n",
       "      <td>compact</td>\n",
       "    </tr>\n",
       "    <tr>\n",
       "      <th>1</th>\n",
       "      <td>audi</td>\n",
       "      <td>a4</td>\n",
       "      <td>1.8</td>\n",
       "      <td>1999</td>\n",
       "      <td>4</td>\n",
       "      <td>manual(m5)</td>\n",
       "      <td>f</td>\n",
       "      <td>21</td>\n",
       "      <td>29</td>\n",
       "      <td>p</td>\n",
       "      <td>compact</td>\n",
       "    </tr>\n",
       "    <tr>\n",
       "      <th>2</th>\n",
       "      <td>audi</td>\n",
       "      <td>a4</td>\n",
       "      <td>2.0</td>\n",
       "      <td>2008</td>\n",
       "      <td>4</td>\n",
       "      <td>manual(m6)</td>\n",
       "      <td>f</td>\n",
       "      <td>20</td>\n",
       "      <td>31</td>\n",
       "      <td>p</td>\n",
       "      <td>compact</td>\n",
       "    </tr>\n",
       "    <tr>\n",
       "      <th>3</th>\n",
       "      <td>audi</td>\n",
       "      <td>a4</td>\n",
       "      <td>2.0</td>\n",
       "      <td>2008</td>\n",
       "      <td>4</td>\n",
       "      <td>auto(av)</td>\n",
       "      <td>f</td>\n",
       "      <td>21</td>\n",
       "      <td>30</td>\n",
       "      <td>p</td>\n",
       "      <td>compact</td>\n",
       "    </tr>\n",
       "    <tr>\n",
       "      <th>4</th>\n",
       "      <td>audi</td>\n",
       "      <td>a4</td>\n",
       "      <td>2.8</td>\n",
       "      <td>1999</td>\n",
       "      <td>6</td>\n",
       "      <td>auto(l5)</td>\n",
       "      <td>f</td>\n",
       "      <td>16</td>\n",
       "      <td>26</td>\n",
       "      <td>p</td>\n",
       "      <td>compact</td>\n",
       "    </tr>\n",
       "    <tr>\n",
       "      <th>...</th>\n",
       "      <td>...</td>\n",
       "      <td>...</td>\n",
       "      <td>...</td>\n",
       "      <td>...</td>\n",
       "      <td>...</td>\n",
       "      <td>...</td>\n",
       "      <td>...</td>\n",
       "      <td>...</td>\n",
       "      <td>...</td>\n",
       "      <td>...</td>\n",
       "      <td>...</td>\n",
       "    </tr>\n",
       "    <tr>\n",
       "      <th>229</th>\n",
       "      <td>volkswagen</td>\n",
       "      <td>passat</td>\n",
       "      <td>2.0</td>\n",
       "      <td>2008</td>\n",
       "      <td>4</td>\n",
       "      <td>auto(s6)</td>\n",
       "      <td>f</td>\n",
       "      <td>19</td>\n",
       "      <td>28</td>\n",
       "      <td>p</td>\n",
       "      <td>midsize</td>\n",
       "    </tr>\n",
       "    <tr>\n",
       "      <th>230</th>\n",
       "      <td>volkswagen</td>\n",
       "      <td>passat</td>\n",
       "      <td>2.0</td>\n",
       "      <td>2008</td>\n",
       "      <td>4</td>\n",
       "      <td>manual(m6)</td>\n",
       "      <td>f</td>\n",
       "      <td>21</td>\n",
       "      <td>29</td>\n",
       "      <td>p</td>\n",
       "      <td>midsize</td>\n",
       "    </tr>\n",
       "    <tr>\n",
       "      <th>231</th>\n",
       "      <td>volkswagen</td>\n",
       "      <td>passat</td>\n",
       "      <td>2.8</td>\n",
       "      <td>1999</td>\n",
       "      <td>6</td>\n",
       "      <td>auto(l5)</td>\n",
       "      <td>f</td>\n",
       "      <td>16</td>\n",
       "      <td>26</td>\n",
       "      <td>p</td>\n",
       "      <td>midsize</td>\n",
       "    </tr>\n",
       "    <tr>\n",
       "      <th>232</th>\n",
       "      <td>volkswagen</td>\n",
       "      <td>passat</td>\n",
       "      <td>2.8</td>\n",
       "      <td>1999</td>\n",
       "      <td>6</td>\n",
       "      <td>manual(m5)</td>\n",
       "      <td>f</td>\n",
       "      <td>18</td>\n",
       "      <td>26</td>\n",
       "      <td>p</td>\n",
       "      <td>midsize</td>\n",
       "    </tr>\n",
       "    <tr>\n",
       "      <th>233</th>\n",
       "      <td>volkswagen</td>\n",
       "      <td>passat</td>\n",
       "      <td>3.6</td>\n",
       "      <td>2008</td>\n",
       "      <td>6</td>\n",
       "      <td>auto(s6)</td>\n",
       "      <td>f</td>\n",
       "      <td>17</td>\n",
       "      <td>26</td>\n",
       "      <td>p</td>\n",
       "      <td>midsize</td>\n",
       "    </tr>\n",
       "  </tbody>\n",
       "</table>\n",
       "<p>234 rows × 11 columns</p>\n",
       "</div>"
      ],
      "text/plain": [
       "    manufacturer   model  displ  year  cyl       trans drv  cty  hwy fl  \\\n",
       "0           audi      a4    1.8  1999    4    auto(l5)   f   18   29  p   \n",
       "1           audi      a4    1.8  1999    4  manual(m5)   f   21   29  p   \n",
       "2           audi      a4    2.0  2008    4  manual(m6)   f   20   31  p   \n",
       "3           audi      a4    2.0  2008    4    auto(av)   f   21   30  p   \n",
       "4           audi      a4    2.8  1999    6    auto(l5)   f   16   26  p   \n",
       "..           ...     ...    ...   ...  ...         ...  ..  ...  ... ..   \n",
       "229   volkswagen  passat    2.0  2008    4    auto(s6)   f   19   28  p   \n",
       "230   volkswagen  passat    2.0  2008    4  manual(m6)   f   21   29  p   \n",
       "231   volkswagen  passat    2.8  1999    6    auto(l5)   f   16   26  p   \n",
       "232   volkswagen  passat    2.8  1999    6  manual(m5)   f   18   26  p   \n",
       "233   volkswagen  passat    3.6  2008    6    auto(s6)   f   17   26  p   \n",
       "\n",
       "       class  \n",
       "0    compact  \n",
       "1    compact  \n",
       "2    compact  \n",
       "3    compact  \n",
       "4    compact  \n",
       "..       ...  \n",
       "229  midsize  \n",
       "230  midsize  \n",
       "231  midsize  \n",
       "232  midsize  \n",
       "233  midsize  \n",
       "\n",
       "[234 rows x 11 columns]"
      ]
     },
     "execution_count": 3,
     "metadata": {},
     "output_type": "execute_result"
    }
   ],
   "source": [
    "# 데이터프레임 (컬럼 2개 이상)\n",
    "mpg "
   ]
  },
  {
   "cell_type": "markdown",
   "id": "3b5dd149",
   "metadata": {},
   "source": [
    "시리즈 pd.Series() "
   ]
  },
  {
   "cell_type": "code",
   "execution_count": 5,
   "id": "ebcf34f2",
   "metadata": {},
   "outputs": [],
   "source": [
    "a = pd.Series(['A', 15])"
   ]
  },
  {
   "cell_type": "code",
   "execution_count": 7,
   "id": "3df54c0b",
   "metadata": {},
   "outputs": [
    {
     "data": {
      "text/plain": [
       "0     A\n",
       "1    15\n",
       "dtype: object"
      ]
     },
     "execution_count": 7,
     "metadata": {},
     "output_type": "execute_result"
    }
   ],
   "source": [
    "a # 인덱스를 지정하지 않으면 디폴트 0,1"
   ]
  },
  {
   "cell_type": "code",
   "execution_count": 8,
   "id": "17583e48",
   "metadata": {},
   "outputs": [],
   "source": [
    "a = pd.Series(['A', 15], index = ['name', 'age']) # 인덱스 지정"
   ]
  },
  {
   "cell_type": "code",
   "execution_count": 9,
   "id": "a4143d08",
   "metadata": {},
   "outputs": [
    {
     "data": {
      "text/plain": [
       "name     A\n",
       "age     15\n",
       "dtype: object"
      ]
     },
     "execution_count": 9,
     "metadata": {},
     "output_type": "execute_result"
    }
   ],
   "source": [
    "a"
   ]
  },
  {
   "cell_type": "code",
   "execution_count": 17,
   "id": "4c0fbf6b",
   "metadata": {},
   "outputs": [
    {
     "data": {
      "text/plain": [
       "Index(['name', 'age'], dtype='object')"
      ]
     },
     "execution_count": 17,
     "metadata": {},
     "output_type": "execute_result"
    }
   ],
   "source": [
    "# 인덱스 추출\n",
    "a.index "
   ]
  },
  {
   "cell_type": "code",
   "execution_count": 26,
   "id": "2af9529a",
   "metadata": {},
   "outputs": [
    {
     "data": {
      "text/plain": [
       "'age'"
      ]
     },
     "execution_count": 26,
     "metadata": {},
     "output_type": "execute_result"
    }
   ],
   "source": [
    "# 인덱스 슬라이싱\n",
    "a.index[1]"
   ]
  },
  {
   "cell_type": "code",
   "execution_count": 25,
   "id": "aff008ae",
   "metadata": {},
   "outputs": [
    {
     "data": {
      "text/plain": [
       "Index(['name', 'age'], dtype='object')"
      ]
     },
     "execution_count": 25,
     "metadata": {},
     "output_type": "execute_result"
    }
   ],
   "source": [
    "# 키 추출\n",
    "a.keys()"
   ]
  },
  {
   "cell_type": "code",
   "execution_count": 18,
   "id": "4fed45dc",
   "metadata": {},
   "outputs": [
    {
     "data": {
      "text/plain": [
       "array(['A', 15], dtype=object)"
      ]
     },
     "execution_count": 18,
     "metadata": {},
     "output_type": "execute_result"
    }
   ],
   "source": [
    "# 값 추출\n",
    "a.values "
   ]
  },
  {
   "cell_type": "markdown",
   "id": "c5008966",
   "metadata": {},
   "source": [
    "시리즈 연산 \n",
    "- 다양한 연산이 가능 (데이터 프레임은 바로 값을 계산하는 데 한계가 있는 반면, 시리즈는 array 형태로 바로 계산 가능)"
   ]
  },
  {
   "cell_type": "code",
   "execution_count": 27,
   "id": "cd3b9b9b",
   "metadata": {},
   "outputs": [
    {
     "data": {
      "text/plain": [
       "16.858974358974358"
      ]
     },
     "execution_count": 27,
     "metadata": {},
     "output_type": "execute_result"
    }
   ],
   "source": [
    "mpg.cty.mean()"
   ]
  },
  {
   "cell_type": "code",
   "execution_count": 28,
   "id": "855c6ed9",
   "metadata": {},
   "outputs": [
    {
     "data": {
      "text/plain": [
       "33.717948717948715"
      ]
     },
     "execution_count": 28,
     "metadata": {},
     "output_type": "execute_result"
    }
   ],
   "source": [
    "mpg.cty.mean()*2"
   ]
  },
  {
   "cell_type": "code",
   "execution_count": 29,
   "id": "8009e107",
   "metadata": {},
   "outputs": [
    {
     "data": {
      "text/plain": [
       "0      36\n",
       "1      42\n",
       "2      40\n",
       "3      42\n",
       "4      32\n",
       "       ..\n",
       "229    38\n",
       "230    42\n",
       "231    32\n",
       "232    36\n",
       "233    34\n",
       "Name: cty, Length: 234, dtype: int64"
      ]
     },
     "execution_count": 29,
     "metadata": {},
     "output_type": "execute_result"
    }
   ],
   "source": [
    "mpg.cty + mpg.cty"
   ]
  },
  {
   "cell_type": "code",
   "execution_count": 30,
   "id": "3486e0e4",
   "metadata": {},
   "outputs": [
    {
     "data": {
      "text/plain": [
       "233    17\n",
       "232    18\n",
       "231    16\n",
       "230    21\n",
       "229    19\n",
       "       ..\n",
       "4      16\n",
       "3      21\n",
       "2      20\n",
       "1      21\n",
       "0      18\n",
       "Name: cty, Length: 234, dtype: int64"
      ]
     },
     "execution_count": 30,
     "metadata": {},
     "output_type": "execute_result"
    }
   ],
   "source": [
    "mpg.cty.sort_index(ascending = False) # 인덱스를 기준으로 내림차순 정렬"
   ]
  },
  {
   "cell_type": "markdown",
   "id": "e00b4c45",
   "metadata": {},
   "source": [
    "데이터프레임 pd.DataFrame()"
   ]
  },
  {
   "cell_type": "code",
   "execution_count": 12,
   "id": "be4f5c78",
   "metadata": {},
   "outputs": [],
   "source": [
    "st = pd.DataFrame({'name' : ['K', 'J'],\n",
    "                  'age' : [15, 18]})"
   ]
  },
  {
   "cell_type": "code",
   "execution_count": 13,
   "id": "0c8f9b23",
   "metadata": {},
   "outputs": [
    {
     "data": {
      "text/html": [
       "<div>\n",
       "<style scoped>\n",
       "    .dataframe tbody tr th:only-of-type {\n",
       "        vertical-align: middle;\n",
       "    }\n",
       "\n",
       "    .dataframe tbody tr th {\n",
       "        vertical-align: top;\n",
       "    }\n",
       "\n",
       "    .dataframe thead th {\n",
       "        text-align: right;\n",
       "    }\n",
       "</style>\n",
       "<table border=\"1\" class=\"dataframe\">\n",
       "  <thead>\n",
       "    <tr style=\"text-align: right;\">\n",
       "      <th></th>\n",
       "      <th>name</th>\n",
       "      <th>age</th>\n",
       "    </tr>\n",
       "  </thead>\n",
       "  <tbody>\n",
       "    <tr>\n",
       "      <th>0</th>\n",
       "      <td>K</td>\n",
       "      <td>15</td>\n",
       "    </tr>\n",
       "    <tr>\n",
       "      <th>1</th>\n",
       "      <td>J</td>\n",
       "      <td>18</td>\n",
       "    </tr>\n",
       "  </tbody>\n",
       "</table>\n",
       "</div>"
      ],
      "text/plain": [
       "  name  age\n",
       "0    K   15\n",
       "1    J   18"
      ]
     },
     "execution_count": 13,
     "metadata": {},
     "output_type": "execute_result"
    }
   ],
   "source": [
    "st"
   ]
  },
  {
   "cell_type": "code",
   "execution_count": 14,
   "id": "96934948",
   "metadata": {},
   "outputs": [],
   "source": [
    "st = pd.DataFrame({'name' : ['K', 'J'],\n",
    "                  'age' : [15, 18]}, index = ['Class1', 'Class2']) # 인덱스 지정 가능"
   ]
  },
  {
   "cell_type": "code",
   "execution_count": 15,
   "id": "7e128aeb",
   "metadata": {
    "scrolled": true
   },
   "outputs": [
    {
     "data": {
      "text/html": [
       "<div>\n",
       "<style scoped>\n",
       "    .dataframe tbody tr th:only-of-type {\n",
       "        vertical-align: middle;\n",
       "    }\n",
       "\n",
       "    .dataframe tbody tr th {\n",
       "        vertical-align: top;\n",
       "    }\n",
       "\n",
       "    .dataframe thead th {\n",
       "        text-align: right;\n",
       "    }\n",
       "</style>\n",
       "<table border=\"1\" class=\"dataframe\">\n",
       "  <thead>\n",
       "    <tr style=\"text-align: right;\">\n",
       "      <th></th>\n",
       "      <th>name</th>\n",
       "      <th>age</th>\n",
       "    </tr>\n",
       "  </thead>\n",
       "  <tbody>\n",
       "    <tr>\n",
       "      <th>Class1</th>\n",
       "      <td>K</td>\n",
       "      <td>15</td>\n",
       "    </tr>\n",
       "    <tr>\n",
       "      <th>Class2</th>\n",
       "      <td>J</td>\n",
       "      <td>18</td>\n",
       "    </tr>\n",
       "  </tbody>\n",
       "</table>\n",
       "</div>"
      ],
      "text/plain": [
       "       name  age\n",
       "Class1    K   15\n",
       "Class2    J   18"
      ]
     },
     "execution_count": 15,
     "metadata": {},
     "output_type": "execute_result"
    }
   ],
   "source": [
    "st"
   ]
  },
  {
   "cell_type": "code",
   "execution_count": 20,
   "id": "046be949",
   "metadata": {
    "scrolled": true
   },
   "outputs": [
    {
     "data": {
      "text/plain": [
       "0                          a4\n",
       "7                  a4 quattro\n",
       "15                 a6 quattro\n",
       "18         c1500 suburban 2wd\n",
       "23                   corvette\n",
       "28            k1500 tahoe 4wd\n",
       "32                     malibu\n",
       "37                caravan 2wd\n",
       "48          dakota pickup 4wd\n",
       "57                durango 4wd\n",
       "64        ram 1500 pickup 4wd\n",
       "74             expedition 2wd\n",
       "77               explorer 4wd\n",
       "83            f150 pickup 4wd\n",
       "90                    mustang\n",
       "99                      civic\n",
       "108                    sonata\n",
       "115                   tiburon\n",
       "122        grand cherokee 4wd\n",
       "130               range rover\n",
       "134             navigator 2wd\n",
       "137           mountaineer 4wd\n",
       "141                    altima\n",
       "147                    maxima\n",
       "150            pathfinder 4wd\n",
       "154                grand prix\n",
       "159              forester awd\n",
       "165               impreza awd\n",
       "173               4runner 4wd\n",
       "179                     camry\n",
       "186              camry solara\n",
       "193                   corolla\n",
       "198    land cruiser wagon 4wd\n",
       "200         toyota tacoma 4wd\n",
       "207                       gti\n",
       "212                     jetta\n",
       "221                new beetle\n",
       "227                    passat\n",
       "Name: model, dtype: object"
      ]
     },
     "execution_count": 20,
     "metadata": {},
     "output_type": "execute_result"
    }
   ],
   "source": [
    "# 중복 제거\n",
    "mpg['model'].drop_duplicates() "
   ]
  },
  {
   "cell_type": "code",
   "execution_count": 19,
   "id": "7a6c9227",
   "metadata": {},
   "outputs": [],
   "source": [
    "mpg_sp = mpg['model']"
   ]
  },
  {
   "cell_type": "code",
   "execution_count": 21,
   "id": "7779a97d",
   "metadata": {
    "scrolled": true
   },
   "outputs": [
    {
     "data": {
      "text/plain": [
       "array(['a4', 'a4', 'a4', 'a4', 'a4', 'a4', 'a4', 'a4 quattro',\n",
       "       'a4 quattro', 'a4 quattro', 'a4 quattro', 'a4 quattro',\n",
       "       'a4 quattro', 'a4 quattro', 'a4 quattro', 'a6 quattro',\n",
       "       'a6 quattro', 'a6 quattro', 'c1500 suburban 2wd',\n",
       "       'c1500 suburban 2wd', 'c1500 suburban 2wd', 'c1500 suburban 2wd',\n",
       "       'c1500 suburban 2wd', 'corvette', 'corvette', 'corvette',\n",
       "       'corvette', 'corvette', 'k1500 tahoe 4wd', 'k1500 tahoe 4wd',\n",
       "       'k1500 tahoe 4wd', 'k1500 tahoe 4wd', 'malibu', 'malibu', 'malibu',\n",
       "       'malibu', 'malibu', 'caravan 2wd', 'caravan 2wd', 'caravan 2wd',\n",
       "       'caravan 2wd', 'caravan 2wd', 'caravan 2wd', 'caravan 2wd',\n",
       "       'caravan 2wd', 'caravan 2wd', 'caravan 2wd', 'caravan 2wd',\n",
       "       'dakota pickup 4wd', 'dakota pickup 4wd', 'dakota pickup 4wd',\n",
       "       'dakota pickup 4wd', 'dakota pickup 4wd', 'dakota pickup 4wd',\n",
       "       'dakota pickup 4wd', 'dakota pickup 4wd', 'dakota pickup 4wd',\n",
       "       'durango 4wd', 'durango 4wd', 'durango 4wd', 'durango 4wd',\n",
       "       'durango 4wd', 'durango 4wd', 'durango 4wd', 'ram 1500 pickup 4wd',\n",
       "       'ram 1500 pickup 4wd', 'ram 1500 pickup 4wd',\n",
       "       'ram 1500 pickup 4wd', 'ram 1500 pickup 4wd',\n",
       "       'ram 1500 pickup 4wd', 'ram 1500 pickup 4wd',\n",
       "       'ram 1500 pickup 4wd', 'ram 1500 pickup 4wd',\n",
       "       'ram 1500 pickup 4wd', 'expedition 2wd', 'expedition 2wd',\n",
       "       'expedition 2wd', 'explorer 4wd', 'explorer 4wd', 'explorer 4wd',\n",
       "       'explorer 4wd', 'explorer 4wd', 'explorer 4wd', 'f150 pickup 4wd',\n",
       "       'f150 pickup 4wd', 'f150 pickup 4wd', 'f150 pickup 4wd',\n",
       "       'f150 pickup 4wd', 'f150 pickup 4wd', 'f150 pickup 4wd', 'mustang',\n",
       "       'mustang', 'mustang', 'mustang', 'mustang', 'mustang', 'mustang',\n",
       "       'mustang', 'mustang', 'civic', 'civic', 'civic', 'civic', 'civic',\n",
       "       'civic', 'civic', 'civic', 'civic', 'sonata', 'sonata', 'sonata',\n",
       "       'sonata', 'sonata', 'sonata', 'sonata', 'tiburon', 'tiburon',\n",
       "       'tiburon', 'tiburon', 'tiburon', 'tiburon', 'tiburon',\n",
       "       'grand cherokee 4wd', 'grand cherokee 4wd', 'grand cherokee 4wd',\n",
       "       'grand cherokee 4wd', 'grand cherokee 4wd', 'grand cherokee 4wd',\n",
       "       'grand cherokee 4wd', 'grand cherokee 4wd', 'range rover',\n",
       "       'range rover', 'range rover', 'range rover', 'navigator 2wd',\n",
       "       'navigator 2wd', 'navigator 2wd', 'mountaineer 4wd',\n",
       "       'mountaineer 4wd', 'mountaineer 4wd', 'mountaineer 4wd', 'altima',\n",
       "       'altima', 'altima', 'altima', 'altima', 'altima', 'maxima',\n",
       "       'maxima', 'maxima', 'pathfinder 4wd', 'pathfinder 4wd',\n",
       "       'pathfinder 4wd', 'pathfinder 4wd', 'grand prix', 'grand prix',\n",
       "       'grand prix', 'grand prix', 'grand prix', 'forester awd',\n",
       "       'forester awd', 'forester awd', 'forester awd', 'forester awd',\n",
       "       'forester awd', 'impreza awd', 'impreza awd', 'impreza awd',\n",
       "       'impreza awd', 'impreza awd', 'impreza awd', 'impreza awd',\n",
       "       'impreza awd', '4runner 4wd', '4runner 4wd', '4runner 4wd',\n",
       "       '4runner 4wd', '4runner 4wd', '4runner 4wd', 'camry', 'camry',\n",
       "       'camry', 'camry', 'camry', 'camry', 'camry', 'camry solara',\n",
       "       'camry solara', 'camry solara', 'camry solara', 'camry solara',\n",
       "       'camry solara', 'camry solara', 'corolla', 'corolla', 'corolla',\n",
       "       'corolla', 'corolla', 'land cruiser wagon 4wd',\n",
       "       'land cruiser wagon 4wd', 'toyota tacoma 4wd', 'toyota tacoma 4wd',\n",
       "       'toyota tacoma 4wd', 'toyota tacoma 4wd', 'toyota tacoma 4wd',\n",
       "       'toyota tacoma 4wd', 'toyota tacoma 4wd', 'gti', 'gti', 'gti',\n",
       "       'gti', 'gti', 'jetta', 'jetta', 'jetta', 'jetta', 'jetta', 'jetta',\n",
       "       'jetta', 'jetta', 'jetta', 'new beetle', 'new beetle',\n",
       "       'new beetle', 'new beetle', 'new beetle', 'new beetle', 'passat',\n",
       "       'passat', 'passat', 'passat', 'passat', 'passat', 'passat'],\n",
       "      dtype=object)"
      ]
     },
     "execution_count": 21,
     "metadata": {},
     "output_type": "execute_result"
    }
   ],
   "source": [
    "# 값 추출 (배열 형태)\n",
    "mpg_sp.values"
   ]
  },
  {
   "cell_type": "code",
   "execution_count": 23,
   "id": "4198b88d",
   "metadata": {},
   "outputs": [
    {
     "data": {
      "text/plain": [
       "['a4',\n",
       " 'a4',\n",
       " 'a4',\n",
       " 'a4',\n",
       " 'a4',\n",
       " 'a4',\n",
       " 'a4',\n",
       " 'a4 quattro',\n",
       " 'a4 quattro',\n",
       " 'a4 quattro',\n",
       " 'a4 quattro',\n",
       " 'a4 quattro',\n",
       " 'a4 quattro',\n",
       " 'a4 quattro',\n",
       " 'a4 quattro',\n",
       " 'a6 quattro',\n",
       " 'a6 quattro',\n",
       " 'a6 quattro',\n",
       " 'c1500 suburban 2wd',\n",
       " 'c1500 suburban 2wd',\n",
       " 'c1500 suburban 2wd',\n",
       " 'c1500 suburban 2wd',\n",
       " 'c1500 suburban 2wd',\n",
       " 'corvette',\n",
       " 'corvette',\n",
       " 'corvette',\n",
       " 'corvette',\n",
       " 'corvette',\n",
       " 'k1500 tahoe 4wd',\n",
       " 'k1500 tahoe 4wd',\n",
       " 'k1500 tahoe 4wd',\n",
       " 'k1500 tahoe 4wd',\n",
       " 'malibu',\n",
       " 'malibu',\n",
       " 'malibu',\n",
       " 'malibu',\n",
       " 'malibu',\n",
       " 'caravan 2wd',\n",
       " 'caravan 2wd',\n",
       " 'caravan 2wd',\n",
       " 'caravan 2wd',\n",
       " 'caravan 2wd',\n",
       " 'caravan 2wd',\n",
       " 'caravan 2wd',\n",
       " 'caravan 2wd',\n",
       " 'caravan 2wd',\n",
       " 'caravan 2wd',\n",
       " 'caravan 2wd',\n",
       " 'dakota pickup 4wd',\n",
       " 'dakota pickup 4wd',\n",
       " 'dakota pickup 4wd',\n",
       " 'dakota pickup 4wd',\n",
       " 'dakota pickup 4wd',\n",
       " 'dakota pickup 4wd',\n",
       " 'dakota pickup 4wd',\n",
       " 'dakota pickup 4wd',\n",
       " 'dakota pickup 4wd',\n",
       " 'durango 4wd',\n",
       " 'durango 4wd',\n",
       " 'durango 4wd',\n",
       " 'durango 4wd',\n",
       " 'durango 4wd',\n",
       " 'durango 4wd',\n",
       " 'durango 4wd',\n",
       " 'ram 1500 pickup 4wd',\n",
       " 'ram 1500 pickup 4wd',\n",
       " 'ram 1500 pickup 4wd',\n",
       " 'ram 1500 pickup 4wd',\n",
       " 'ram 1500 pickup 4wd',\n",
       " 'ram 1500 pickup 4wd',\n",
       " 'ram 1500 pickup 4wd',\n",
       " 'ram 1500 pickup 4wd',\n",
       " 'ram 1500 pickup 4wd',\n",
       " 'ram 1500 pickup 4wd',\n",
       " 'expedition 2wd',\n",
       " 'expedition 2wd',\n",
       " 'expedition 2wd',\n",
       " 'explorer 4wd',\n",
       " 'explorer 4wd',\n",
       " 'explorer 4wd',\n",
       " 'explorer 4wd',\n",
       " 'explorer 4wd',\n",
       " 'explorer 4wd',\n",
       " 'f150 pickup 4wd',\n",
       " 'f150 pickup 4wd',\n",
       " 'f150 pickup 4wd',\n",
       " 'f150 pickup 4wd',\n",
       " 'f150 pickup 4wd',\n",
       " 'f150 pickup 4wd',\n",
       " 'f150 pickup 4wd',\n",
       " 'mustang',\n",
       " 'mustang',\n",
       " 'mustang',\n",
       " 'mustang',\n",
       " 'mustang',\n",
       " 'mustang',\n",
       " 'mustang',\n",
       " 'mustang',\n",
       " 'mustang',\n",
       " 'civic',\n",
       " 'civic',\n",
       " 'civic',\n",
       " 'civic',\n",
       " 'civic',\n",
       " 'civic',\n",
       " 'civic',\n",
       " 'civic',\n",
       " 'civic',\n",
       " 'sonata',\n",
       " 'sonata',\n",
       " 'sonata',\n",
       " 'sonata',\n",
       " 'sonata',\n",
       " 'sonata',\n",
       " 'sonata',\n",
       " 'tiburon',\n",
       " 'tiburon',\n",
       " 'tiburon',\n",
       " 'tiburon',\n",
       " 'tiburon',\n",
       " 'tiburon',\n",
       " 'tiburon',\n",
       " 'grand cherokee 4wd',\n",
       " 'grand cherokee 4wd',\n",
       " 'grand cherokee 4wd',\n",
       " 'grand cherokee 4wd',\n",
       " 'grand cherokee 4wd',\n",
       " 'grand cherokee 4wd',\n",
       " 'grand cherokee 4wd',\n",
       " 'grand cherokee 4wd',\n",
       " 'range rover',\n",
       " 'range rover',\n",
       " 'range rover',\n",
       " 'range rover',\n",
       " 'navigator 2wd',\n",
       " 'navigator 2wd',\n",
       " 'navigator 2wd',\n",
       " 'mountaineer 4wd',\n",
       " 'mountaineer 4wd',\n",
       " 'mountaineer 4wd',\n",
       " 'mountaineer 4wd',\n",
       " 'altima',\n",
       " 'altima',\n",
       " 'altima',\n",
       " 'altima',\n",
       " 'altima',\n",
       " 'altima',\n",
       " 'maxima',\n",
       " 'maxima',\n",
       " 'maxima',\n",
       " 'pathfinder 4wd',\n",
       " 'pathfinder 4wd',\n",
       " 'pathfinder 4wd',\n",
       " 'pathfinder 4wd',\n",
       " 'grand prix',\n",
       " 'grand prix',\n",
       " 'grand prix',\n",
       " 'grand prix',\n",
       " 'grand prix',\n",
       " 'forester awd',\n",
       " 'forester awd',\n",
       " 'forester awd',\n",
       " 'forester awd',\n",
       " 'forester awd',\n",
       " 'forester awd',\n",
       " 'impreza awd',\n",
       " 'impreza awd',\n",
       " 'impreza awd',\n",
       " 'impreza awd',\n",
       " 'impreza awd',\n",
       " 'impreza awd',\n",
       " 'impreza awd',\n",
       " 'impreza awd',\n",
       " '4runner 4wd',\n",
       " '4runner 4wd',\n",
       " '4runner 4wd',\n",
       " '4runner 4wd',\n",
       " '4runner 4wd',\n",
       " '4runner 4wd',\n",
       " 'camry',\n",
       " 'camry',\n",
       " 'camry',\n",
       " 'camry',\n",
       " 'camry',\n",
       " 'camry',\n",
       " 'camry',\n",
       " 'camry solara',\n",
       " 'camry solara',\n",
       " 'camry solara',\n",
       " 'camry solara',\n",
       " 'camry solara',\n",
       " 'camry solara',\n",
       " 'camry solara',\n",
       " 'corolla',\n",
       " 'corolla',\n",
       " 'corolla',\n",
       " 'corolla',\n",
       " 'corolla',\n",
       " 'land cruiser wagon 4wd',\n",
       " 'land cruiser wagon 4wd',\n",
       " 'toyota tacoma 4wd',\n",
       " 'toyota tacoma 4wd',\n",
       " 'toyota tacoma 4wd',\n",
       " 'toyota tacoma 4wd',\n",
       " 'toyota tacoma 4wd',\n",
       " 'toyota tacoma 4wd',\n",
       " 'toyota tacoma 4wd',\n",
       " 'gti',\n",
       " 'gti',\n",
       " 'gti',\n",
       " 'gti',\n",
       " 'gti',\n",
       " 'jetta',\n",
       " 'jetta',\n",
       " 'jetta',\n",
       " 'jetta',\n",
       " 'jetta',\n",
       " 'jetta',\n",
       " 'jetta',\n",
       " 'jetta',\n",
       " 'jetta',\n",
       " 'new beetle',\n",
       " 'new beetle',\n",
       " 'new beetle',\n",
       " 'new beetle',\n",
       " 'new beetle',\n",
       " 'new beetle',\n",
       " 'passat',\n",
       " 'passat',\n",
       " 'passat',\n",
       " 'passat',\n",
       " 'passat',\n",
       " 'passat',\n",
       " 'passat']"
      ]
     },
     "execution_count": 23,
     "metadata": {},
     "output_type": "execute_result"
    }
   ],
   "source": [
    "# 리스트 형태로 변환\n",
    "mpg_sp_lt = list(mpg_sp.values)\n",
    "mpg_sp_lt"
   ]
  },
  {
   "cell_type": "code",
   "execution_count": 24,
   "id": "2591648e",
   "metadata": {},
   "outputs": [
    {
     "name": "stdout",
     "output_type": "stream",
     "text": [
      "a4\n",
      "a4\n",
      "a4\n",
      "a4\n",
      "a4\n",
      "a4\n",
      "a4\n",
      "a4 quattro\n",
      "a4 quattro\n",
      "a4 quattro\n",
      "a4 quattro\n",
      "a4 quattro\n",
      "a4 quattro\n",
      "a4 quattro\n",
      "a4 quattro\n",
      "a6 quattro\n",
      "a6 quattro\n",
      "a6 quattro\n",
      "c1500 suburban 2wd\n",
      "c1500 suburban 2wd\n",
      "c1500 suburban 2wd\n",
      "c1500 suburban 2wd\n",
      "c1500 suburban 2wd\n",
      "corvette\n",
      "corvette\n",
      "corvette\n",
      "corvette\n",
      "corvette\n",
      "k1500 tahoe 4wd\n",
      "k1500 tahoe 4wd\n",
      "k1500 tahoe 4wd\n",
      "k1500 tahoe 4wd\n",
      "malibu\n",
      "malibu\n",
      "malibu\n",
      "malibu\n",
      "malibu\n",
      "caravan 2wd\n",
      "caravan 2wd\n",
      "caravan 2wd\n",
      "caravan 2wd\n",
      "caravan 2wd\n",
      "caravan 2wd\n",
      "caravan 2wd\n",
      "caravan 2wd\n",
      "caravan 2wd\n",
      "caravan 2wd\n",
      "caravan 2wd\n",
      "dakota pickup 4wd\n",
      "dakota pickup 4wd\n",
      "dakota pickup 4wd\n",
      "dakota pickup 4wd\n",
      "dakota pickup 4wd\n",
      "dakota pickup 4wd\n",
      "dakota pickup 4wd\n",
      "dakota pickup 4wd\n",
      "dakota pickup 4wd\n",
      "durango 4wd\n",
      "durango 4wd\n",
      "durango 4wd\n",
      "durango 4wd\n",
      "durango 4wd\n",
      "durango 4wd\n",
      "durango 4wd\n",
      "ram 1500 pickup 4wd\n",
      "ram 1500 pickup 4wd\n",
      "ram 1500 pickup 4wd\n",
      "ram 1500 pickup 4wd\n",
      "ram 1500 pickup 4wd\n",
      "ram 1500 pickup 4wd\n",
      "ram 1500 pickup 4wd\n",
      "ram 1500 pickup 4wd\n",
      "ram 1500 pickup 4wd\n",
      "ram 1500 pickup 4wd\n",
      "expedition 2wd\n",
      "expedition 2wd\n",
      "expedition 2wd\n",
      "explorer 4wd\n",
      "explorer 4wd\n",
      "explorer 4wd\n",
      "explorer 4wd\n",
      "explorer 4wd\n",
      "explorer 4wd\n",
      "f150 pickup 4wd\n",
      "f150 pickup 4wd\n",
      "f150 pickup 4wd\n",
      "f150 pickup 4wd\n",
      "f150 pickup 4wd\n",
      "f150 pickup 4wd\n",
      "f150 pickup 4wd\n",
      "mustang\n",
      "mustang\n",
      "mustang\n",
      "mustang\n",
      "mustang\n",
      "mustang\n",
      "mustang\n",
      "mustang\n",
      "mustang\n",
      "civic\n",
      "civic\n",
      "civic\n",
      "civic\n",
      "civic\n",
      "civic\n",
      "civic\n",
      "civic\n",
      "civic\n",
      "sonata\n",
      "sonata\n",
      "sonata\n",
      "sonata\n",
      "sonata\n",
      "sonata\n",
      "sonata\n",
      "tiburon\n",
      "tiburon\n",
      "tiburon\n",
      "tiburon\n",
      "tiburon\n",
      "tiburon\n",
      "tiburon\n",
      "grand cherokee 4wd\n",
      "grand cherokee 4wd\n",
      "grand cherokee 4wd\n",
      "grand cherokee 4wd\n",
      "grand cherokee 4wd\n",
      "grand cherokee 4wd\n",
      "grand cherokee 4wd\n",
      "grand cherokee 4wd\n",
      "range rover\n",
      "range rover\n",
      "range rover\n",
      "range rover\n",
      "navigator 2wd\n",
      "navigator 2wd\n",
      "navigator 2wd\n",
      "mountaineer 4wd\n",
      "mountaineer 4wd\n",
      "mountaineer 4wd\n",
      "mountaineer 4wd\n",
      "altima\n",
      "altima\n",
      "altima\n",
      "altima\n",
      "altima\n",
      "altima\n",
      "maxima\n",
      "maxima\n",
      "maxima\n",
      "pathfinder 4wd\n",
      "pathfinder 4wd\n",
      "pathfinder 4wd\n",
      "pathfinder 4wd\n",
      "grand prix\n",
      "grand prix\n",
      "grand prix\n",
      "grand prix\n",
      "grand prix\n",
      "forester awd\n",
      "forester awd\n",
      "forester awd\n",
      "forester awd\n",
      "forester awd\n",
      "forester awd\n",
      "impreza awd\n",
      "impreza awd\n",
      "impreza awd\n",
      "impreza awd\n",
      "impreza awd\n",
      "impreza awd\n",
      "impreza awd\n",
      "impreza awd\n",
      "4runner 4wd\n",
      "4runner 4wd\n",
      "4runner 4wd\n",
      "4runner 4wd\n",
      "4runner 4wd\n",
      "4runner 4wd\n",
      "camry\n",
      "camry\n",
      "camry\n",
      "camry\n",
      "camry\n",
      "camry\n",
      "camry\n",
      "camry solara\n",
      "camry solara\n",
      "camry solara\n",
      "camry solara\n",
      "camry solara\n",
      "camry solara\n",
      "camry solara\n",
      "corolla\n",
      "corolla\n",
      "corolla\n",
      "corolla\n",
      "corolla\n",
      "land cruiser wagon 4wd\n",
      "land cruiser wagon 4wd\n",
      "toyota tacoma 4wd\n",
      "toyota tacoma 4wd\n",
      "toyota tacoma 4wd\n",
      "toyota tacoma 4wd\n",
      "toyota tacoma 4wd\n",
      "toyota tacoma 4wd\n",
      "toyota tacoma 4wd\n",
      "gti\n",
      "gti\n",
      "gti\n",
      "gti\n",
      "gti\n",
      "jetta\n",
      "jetta\n",
      "jetta\n",
      "jetta\n",
      "jetta\n",
      "jetta\n",
      "jetta\n",
      "jetta\n",
      "jetta\n",
      "new beetle\n",
      "new beetle\n",
      "new beetle\n",
      "new beetle\n",
      "new beetle\n",
      "new beetle\n",
      "passat\n",
      "passat\n",
      "passat\n",
      "passat\n",
      "passat\n",
      "passat\n",
      "passat\n"
     ]
    }
   ],
   "source": [
    "# 값만 가져오기\n",
    "for i in mpg_sp_lt :\n",
    "    print(i)"
   ]
  },
  {
   "cell_type": "markdown",
   "id": "7433cb23",
   "metadata": {},
   "source": [
    "- 데이터프레임 활용"
   ]
  },
  {
   "cell_type": "code",
   "execution_count": 31,
   "id": "61582248",
   "metadata": {
    "scrolled": true
   },
   "outputs": [
    {
     "data": {
      "text/html": [
       "<div>\n",
       "<style scoped>\n",
       "    .dataframe tbody tr th:only-of-type {\n",
       "        vertical-align: middle;\n",
       "    }\n",
       "\n",
       "    .dataframe tbody tr th {\n",
       "        vertical-align: top;\n",
       "    }\n",
       "\n",
       "    .dataframe thead th {\n",
       "        text-align: right;\n",
       "    }\n",
       "</style>\n",
       "<table border=\"1\" class=\"dataframe\">\n",
       "  <thead>\n",
       "    <tr style=\"text-align: right;\">\n",
       "      <th></th>\n",
       "      <th>manufacturer</th>\n",
       "      <th>model</th>\n",
       "      <th>displ</th>\n",
       "      <th>year</th>\n",
       "      <th>cyl</th>\n",
       "      <th>trans</th>\n",
       "      <th>drv</th>\n",
       "      <th>cty</th>\n",
       "      <th>hwy</th>\n",
       "      <th>fl</th>\n",
       "      <th>class</th>\n",
       "    </tr>\n",
       "  </thead>\n",
       "  <tbody>\n",
       "    <tr>\n",
       "      <th>0</th>\n",
       "      <td>audi</td>\n",
       "      <td>a4</td>\n",
       "      <td>1.8</td>\n",
       "      <td>1999</td>\n",
       "      <td>4</td>\n",
       "      <td>auto(l5)</td>\n",
       "      <td>f</td>\n",
       "      <td>18</td>\n",
       "      <td>29</td>\n",
       "      <td>p</td>\n",
       "      <td>compact</td>\n",
       "    </tr>\n",
       "    <tr>\n",
       "      <th>1</th>\n",
       "      <td>audi</td>\n",
       "      <td>a4</td>\n",
       "      <td>1.8</td>\n",
       "      <td>1999</td>\n",
       "      <td>4</td>\n",
       "      <td>manual(m5)</td>\n",
       "      <td>f</td>\n",
       "      <td>21</td>\n",
       "      <td>29</td>\n",
       "      <td>p</td>\n",
       "      <td>compact</td>\n",
       "    </tr>\n",
       "    <tr>\n",
       "      <th>2</th>\n",
       "      <td>audi</td>\n",
       "      <td>a4</td>\n",
       "      <td>2.0</td>\n",
       "      <td>2008</td>\n",
       "      <td>4</td>\n",
       "      <td>manual(m6)</td>\n",
       "      <td>f</td>\n",
       "      <td>20</td>\n",
       "      <td>31</td>\n",
       "      <td>p</td>\n",
       "      <td>compact</td>\n",
       "    </tr>\n",
       "    <tr>\n",
       "      <th>3</th>\n",
       "      <td>audi</td>\n",
       "      <td>a4</td>\n",
       "      <td>2.0</td>\n",
       "      <td>2008</td>\n",
       "      <td>4</td>\n",
       "      <td>auto(av)</td>\n",
       "      <td>f</td>\n",
       "      <td>21</td>\n",
       "      <td>30</td>\n",
       "      <td>p</td>\n",
       "      <td>compact</td>\n",
       "    </tr>\n",
       "    <tr>\n",
       "      <th>5</th>\n",
       "      <td>audi</td>\n",
       "      <td>a4</td>\n",
       "      <td>2.8</td>\n",
       "      <td>1999</td>\n",
       "      <td>6</td>\n",
       "      <td>manual(m5)</td>\n",
       "      <td>f</td>\n",
       "      <td>18</td>\n",
       "      <td>26</td>\n",
       "      <td>p</td>\n",
       "      <td>compact</td>\n",
       "    </tr>\n",
       "    <tr>\n",
       "      <th>...</th>\n",
       "      <td>...</td>\n",
       "      <td>...</td>\n",
       "      <td>...</td>\n",
       "      <td>...</td>\n",
       "      <td>...</td>\n",
       "      <td>...</td>\n",
       "      <td>...</td>\n",
       "      <td>...</td>\n",
       "      <td>...</td>\n",
       "      <td>...</td>\n",
       "      <td>...</td>\n",
       "    </tr>\n",
       "    <tr>\n",
       "      <th>228</th>\n",
       "      <td>volkswagen</td>\n",
       "      <td>passat</td>\n",
       "      <td>1.8</td>\n",
       "      <td>1999</td>\n",
       "      <td>4</td>\n",
       "      <td>auto(l5)</td>\n",
       "      <td>f</td>\n",
       "      <td>18</td>\n",
       "      <td>29</td>\n",
       "      <td>p</td>\n",
       "      <td>midsize</td>\n",
       "    </tr>\n",
       "    <tr>\n",
       "      <th>229</th>\n",
       "      <td>volkswagen</td>\n",
       "      <td>passat</td>\n",
       "      <td>2.0</td>\n",
       "      <td>2008</td>\n",
       "      <td>4</td>\n",
       "      <td>auto(s6)</td>\n",
       "      <td>f</td>\n",
       "      <td>19</td>\n",
       "      <td>28</td>\n",
       "      <td>p</td>\n",
       "      <td>midsize</td>\n",
       "    </tr>\n",
       "    <tr>\n",
       "      <th>230</th>\n",
       "      <td>volkswagen</td>\n",
       "      <td>passat</td>\n",
       "      <td>2.0</td>\n",
       "      <td>2008</td>\n",
       "      <td>4</td>\n",
       "      <td>manual(m6)</td>\n",
       "      <td>f</td>\n",
       "      <td>21</td>\n",
       "      <td>29</td>\n",
       "      <td>p</td>\n",
       "      <td>midsize</td>\n",
       "    </tr>\n",
       "    <tr>\n",
       "      <th>232</th>\n",
       "      <td>volkswagen</td>\n",
       "      <td>passat</td>\n",
       "      <td>2.8</td>\n",
       "      <td>1999</td>\n",
       "      <td>6</td>\n",
       "      <td>manual(m5)</td>\n",
       "      <td>f</td>\n",
       "      <td>18</td>\n",
       "      <td>26</td>\n",
       "      <td>p</td>\n",
       "      <td>midsize</td>\n",
       "    </tr>\n",
       "    <tr>\n",
       "      <th>233</th>\n",
       "      <td>volkswagen</td>\n",
       "      <td>passat</td>\n",
       "      <td>3.6</td>\n",
       "      <td>2008</td>\n",
       "      <td>6</td>\n",
       "      <td>auto(s6)</td>\n",
       "      <td>f</td>\n",
       "      <td>17</td>\n",
       "      <td>26</td>\n",
       "      <td>p</td>\n",
       "      <td>midsize</td>\n",
       "    </tr>\n",
       "  </tbody>\n",
       "</table>\n",
       "<p>118 rows × 11 columns</p>\n",
       "</div>"
      ],
      "text/plain": [
       "    manufacturer   model  displ  year  cyl       trans drv  cty  hwy fl  \\\n",
       "0           audi      a4    1.8  1999    4    auto(l5)   f   18   29  p   \n",
       "1           audi      a4    1.8  1999    4  manual(m5)   f   21   29  p   \n",
       "2           audi      a4    2.0  2008    4  manual(m6)   f   20   31  p   \n",
       "3           audi      a4    2.0  2008    4    auto(av)   f   21   30  p   \n",
       "5           audi      a4    2.8  1999    6  manual(m5)   f   18   26  p   \n",
       "..           ...     ...    ...   ...  ...         ...  ..  ...  ... ..   \n",
       "228   volkswagen  passat    1.8  1999    4    auto(l5)   f   18   29  p   \n",
       "229   volkswagen  passat    2.0  2008    4    auto(s6)   f   19   28  p   \n",
       "230   volkswagen  passat    2.0  2008    4  manual(m6)   f   21   29  p   \n",
       "232   volkswagen  passat    2.8  1999    6  manual(m5)   f   18   26  p   \n",
       "233   volkswagen  passat    3.6  2008    6    auto(s6)   f   17   26  p   \n",
       "\n",
       "       class  \n",
       "0    compact  \n",
       "1    compact  \n",
       "2    compact  \n",
       "3    compact  \n",
       "5    compact  \n",
       "..       ...  \n",
       "228  midsize  \n",
       "229  midsize  \n",
       "230  midsize  \n",
       "232  midsize  \n",
       "233  midsize  \n",
       "\n",
       "[118 rows x 11 columns]"
      ]
     },
     "execution_count": 31,
     "metadata": {},
     "output_type": "execute_result"
    }
   ],
   "source": [
    "mpg[mpg['cty'] > mpg['cty'].mean()]\n",
    "# 특정한 조건을 만족하는 행만 추출할 수 있음"
   ]
  },
  {
   "cell_type": "code",
   "execution_count": 34,
   "id": "dfaed0a3",
   "metadata": {},
   "outputs": [
    {
     "data": {
      "text/plain": [
       "Index(['manufacturer', 'model', 'displ', 'year', 'cyl', 'trans', 'drv', 'cty',\n",
       "       'hwy', 'fl', 'class'],\n",
       "      dtype='object')"
      ]
     },
     "execution_count": 34,
     "metadata": {},
     "output_type": "execute_result"
    }
   ],
   "source": [
    "mpg.columns # 컬럼명 추출"
   ]
  },
  {
   "cell_type": "code",
   "execution_count": 35,
   "id": "2776c391",
   "metadata": {},
   "outputs": [
    {
     "name": "stdout",
     "output_type": "stream",
     "text": [
      "0            audi\n",
      "1            audi\n",
      "2            audi\n",
      "3            audi\n",
      "4            audi\n",
      "          ...    \n",
      "229    volkswagen\n",
      "230    volkswagen\n",
      "231    volkswagen\n",
      "232    volkswagen\n",
      "233    volkswagen\n",
      "Name: manufacturer, Length: 234, dtype: object\n",
      "0          a4\n",
      "1          a4\n",
      "2          a4\n",
      "3          a4\n",
      "4          a4\n",
      "        ...  \n",
      "229    passat\n",
      "230    passat\n",
      "231    passat\n",
      "232    passat\n",
      "233    passat\n",
      "Name: model, Length: 234, dtype: object\n",
      "0      1.8\n",
      "1      1.8\n",
      "2      2.0\n",
      "3      2.0\n",
      "4      2.8\n",
      "      ... \n",
      "229    2.0\n",
      "230    2.0\n",
      "231    2.8\n",
      "232    2.8\n",
      "233    3.6\n",
      "Name: displ, Length: 234, dtype: float64\n",
      "0      1999\n",
      "1      1999\n",
      "2      2008\n",
      "3      2008\n",
      "4      1999\n",
      "       ... \n",
      "229    2008\n",
      "230    2008\n",
      "231    1999\n",
      "232    1999\n",
      "233    2008\n",
      "Name: year, Length: 234, dtype: int64\n",
      "0      4\n",
      "1      4\n",
      "2      4\n",
      "3      4\n",
      "4      6\n",
      "      ..\n",
      "229    4\n",
      "230    4\n",
      "231    6\n",
      "232    6\n",
      "233    6\n",
      "Name: cyl, Length: 234, dtype: int64\n",
      "0        auto(l5)\n",
      "1      manual(m5)\n",
      "2      manual(m6)\n",
      "3        auto(av)\n",
      "4        auto(l5)\n",
      "          ...    \n",
      "229      auto(s6)\n",
      "230    manual(m6)\n",
      "231      auto(l5)\n",
      "232    manual(m5)\n",
      "233      auto(s6)\n",
      "Name: trans, Length: 234, dtype: object\n",
      "0      f\n",
      "1      f\n",
      "2      f\n",
      "3      f\n",
      "4      f\n",
      "      ..\n",
      "229    f\n",
      "230    f\n",
      "231    f\n",
      "232    f\n",
      "233    f\n",
      "Name: drv, Length: 234, dtype: object\n",
      "0      18\n",
      "1      21\n",
      "2      20\n",
      "3      21\n",
      "4      16\n",
      "       ..\n",
      "229    19\n",
      "230    21\n",
      "231    16\n",
      "232    18\n",
      "233    17\n",
      "Name: cty, Length: 234, dtype: int64\n",
      "0      29\n",
      "1      29\n",
      "2      31\n",
      "3      30\n",
      "4      26\n",
      "       ..\n",
      "229    28\n",
      "230    29\n",
      "231    26\n",
      "232    26\n",
      "233    26\n",
      "Name: hwy, Length: 234, dtype: int64\n",
      "0      p\n",
      "1      p\n",
      "2      p\n",
      "3      p\n",
      "4      p\n",
      "      ..\n",
      "229    p\n",
      "230    p\n",
      "231    p\n",
      "232    p\n",
      "233    p\n",
      "Name: fl, Length: 234, dtype: object\n",
      "0      compact\n",
      "1      compact\n",
      "2      compact\n",
      "3      compact\n",
      "4      compact\n",
      "        ...   \n",
      "229    midsize\n",
      "230    midsize\n",
      "231    midsize\n",
      "232    midsize\n",
      "233    midsize\n",
      "Name: class, Length: 234, dtype: object\n"
     ]
    }
   ],
   "source": [
    "a = list(mpg.columns)\n",
    "for i in a :\n",
    "    print(mpg[i])\n",
    "# 반복문을 사용해 해당 컬럼을 차례대로 추출"
   ]
  },
  {
   "cell_type": "code",
   "execution_count": 32,
   "id": "9d7f8bca",
   "metadata": {},
   "outputs": [
    {
     "data": {
      "text/plain": [
       "dtype('int64')"
      ]
     },
     "execution_count": 32,
     "metadata": {},
     "output_type": "execute_result"
    }
   ],
   "source": [
    "mpg.cty.dtype # 데이터 타입 확인 가능"
   ]
  },
  {
   "cell_type": "code",
   "execution_count": 33,
   "id": "b5d4bc43",
   "metadata": {},
   "outputs": [
    {
     "data": {
      "text/plain": [
       "dtype('O')"
      ]
     },
     "execution_count": 33,
     "metadata": {},
     "output_type": "execute_result"
    }
   ],
   "source": [
    "mpg.manufacturer.dtype # object(str과 유사)"
   ]
  },
  {
   "cell_type": "markdown",
   "id": "d404b39d",
   "metadata": {},
   "source": [
    "## 시각화"
   ]
  },
  {
   "cell_type": "markdown",
   "id": "755d66f4",
   "metadata": {},
   "source": [
    "- 시각화를 하는 이유는 패턴을 찾거나 경향을 파악하기 위함\n",
    "- 데이터 타입에 따라 다른 그래프를 사용해야 함"
   ]
  },
  {
   "cell_type": "code",
   "execution_count": 41,
   "id": "852a517b",
   "metadata": {},
   "outputs": [],
   "source": [
    "import matplotlib.pyplot as plt\n",
    "import seaborn as sns"
   ]
  },
  {
   "cell_type": "markdown",
   "id": "0f0f9b1d",
   "metadata": {},
   "source": [
    "산점도 그래프 (scatter)"
   ]
  },
  {
   "cell_type": "code",
   "execution_count": 43,
   "id": "a17f4369",
   "metadata": {},
   "outputs": [
    {
     "data": {
      "image/png": "[encoded data removed]",
      "text/plain": [
       "<Figure size 432x288 with 1 Axes>"
      ]
     },
     "metadata": {
      "needs_background": "light"
     },
     "output_type": "display_data"
    }
   ],
   "source": [
    "plt.scatter([1,2,3], [4,5,6])\n",
    "plt.show()"
   ]
  },
  {
   "cell_type": "code",
   "execution_count": 45,
   "id": "be13449d",
   "metadata": {
    "scrolled": true
   },
   "outputs": [
    {
     "data": {
      "image/png": "[encoded data removed]",
      "text/plain": [
       "<Figure size 432x288 with 1 Axes>"
      ]
     },
     "metadata": {
      "needs_background": "light"
     },
     "output_type": "display_data"
    }
   ],
   "source": [
    "# 하나의 코드에 2개 이상의 그래프를 입력할 경우 하나로 출력\n",
    "plt.scatter([1,2,3], [4,5,6])\n",
    "plt.scatter([5,6,7], [10,5,6])\n",
    "plt.scatter([2,4,8], [1,2,5])\n",
    "\n",
    "plt.show()"
   ]
  },
  {
   "cell_type": "markdown",
   "id": "09743f65",
   "metadata": {},
   "source": [
    "- 그래프 이름, 축 설정"
   ]
  },
  {
   "cell_type": "code",
   "execution_count": 51,
   "id": "7d26a025",
   "metadata": {},
   "outputs": [
    {
     "data": {
      "text/plain": [
       "(20.0, 35.0)"
      ]
     },
     "execution_count": 51,
     "metadata": {},
     "output_type": "execute_result"
    },
    {
     "data": {
      "image/png": "[encoded data removed]",
      "text/plain": [
       "<Figure size 432x288 with 1 Axes>"
      ]
     },
     "metadata": {
      "needs_background": "light"
     },
     "output_type": "display_data"
    }
   ],
   "source": [
    "plt.scatter(mpg.iloc[:10, 7], mpg.iloc[:10, 8])\n",
    "\n",
    "plt.title('mpg') # 그래프 이름 설정\n",
    "plt.xlabel('mpg.cty') # x축 레이블 설정\n",
    "plt.ylabel('mpg.hwy') # y축 레이블 설정\n",
    "\n",
    "plt.xlim(15, 25) # x축 범위 설정\n",
    "plt.ylim(20, 35) # y축 범위 설정"
   ]
  },
  {
   "cell_type": "markdown",
   "id": "a4daf330",
   "metadata": {},
   "source": [
    "- 눈금값, 범례 조절"
   ]
  },
  {
   "cell_type": "code",
   "execution_count": 53,
   "id": "6b6e501c",
   "metadata": {},
   "outputs": [
    {
     "data": {
      "text/plain": [
       "([<matplotlib.axis.YTick at 0x29fe98865b0>,\n",
       "  <matplotlib.axis.YTick at 0x29fe987fdf0>,\n",
       "  <matplotlib.axis.YTick at 0x29fe987f310>],\n",
       " [Text(0, 4, 'a'), Text(0, 5, 'b'), Text(0, 6, 'c')])"
      ]
     },
     "execution_count": 53,
     "metadata": {},
     "output_type": "execute_result"
    },
    {
     "data": {
      "image/png": "[encoded data removed]",
      "text/plain": [
       "<Figure size 432x288 with 1 Axes>"
      ]
     },
     "metadata": {
      "needs_background": "light"
     },
     "output_type": "display_data"
    }
   ],
   "source": [
    "plt.scatter([1,2,3], [4,5,6])\n",
    "plt.xticks([1,2,3], ['A','B','C']) # x축에서 눈금을 표시할 위치, 눈금값의 이름\n",
    "plt.yticks([4,5,6], ['a','b','c'])"
   ]
  },
  {
   "cell_type": "code",
   "execution_count": 54,
   "id": "dbcd7a9e",
   "metadata": {},
   "outputs": [
    {
     "data": {
      "text/plain": [
       "<matplotlib.legend.Legend at 0x29fe98f7370>"
      ]
     },
     "execution_count": 54,
     "metadata": {},
     "output_type": "execute_result"
    },
    {
     "data": {
      "image/png": "[encoded data removed]",
      "text/plain": [
       "<Figure size 432x288 with 1 Axes>"
      ]
     },
     "metadata": {
      "needs_background": "light"
     },
     "output_type": "display_data"
    }
   ],
   "source": [
    "# 라벨을 지정한 뒤, legend()를 사용해 범례 출력\n",
    "plt.scatter([1,2,3], [4,5,6], label = 'cty') \n",
    "plt.scatter([6,7,8], [3,2,5], label = 'hwy')\n",
    "plt.legend()"
   ]
  },
  {
   "cell_type": "code",
   "execution_count": 55,
   "id": "22d59d93",
   "metadata": {},
   "outputs": [
    {
     "data": {
      "text/plain": [
       "<matplotlib.legend.Legend at 0x29fe99646a0>"
      ]
     },
     "execution_count": 55,
     "metadata": {},
     "output_type": "execute_result"
    },
    {
     "data": {
      "image/png": "[encoded data removed]",
      "text/plain": [
       "<Figure size 432x288 with 1 Axes>"
      ]
     },
     "metadata": {
      "needs_background": "light"
     },
     "output_type": "display_data"
    }
   ],
   "source": [
    "plt.scatter([1,2,3], [4,5,6], label = 'cty') \n",
    "plt.scatter([6,7,8], [3,2,5], label = 'hwy')\n",
    "plt.legend(loc = 'center') # 범례 위치 설정 가능"
   ]
  },
  {
   "cell_type": "markdown",
   "id": "cbd1ed46",
   "metadata": {},
   "source": [
    "- 그래프 크기 조절"
   ]
  },
  {
   "cell_type": "code",
   "execution_count": 57,
   "id": "21f8f8aa",
   "metadata": {},
   "outputs": [
    {
     "data": {
      "text/plain": [
       "<matplotlib.collections.PathCollection at 0x29fe9a56040>"
      ]
     },
     "execution_count": 57,
     "metadata": {},
     "output_type": "execute_result"
    },
    {
     "data": {
      "image/png": "[encoded data removed]",
      "text/plain": [
       "<Figure size 360x360 with 1 Axes>"
      ]
     },
     "metadata": {
      "needs_background": "light"
     },
     "output_type": "display_data"
    }
   ],
   "source": [
    "# figure(figsize = ())\n",
    "plt.figure(figsize = (5,5))\n",
    "plt.scatter([1,2,3], [4,5,6]) "
   ]
  },
  {
   "cell_type": "code",
   "execution_count": 58,
   "id": "199f2234",
   "metadata": {
    "scrolled": true
   },
   "outputs": [
    {
     "data": {
      "text/plain": [
       "<matplotlib.collections.PathCollection at 0x29fe9acc8b0>"
      ]
     },
     "execution_count": 58,
     "metadata": {},
     "output_type": "execute_result"
    },
    {
     "data": {
      "image/png": "[encoded data removed]",
      "text/plain": [
       "<Figure size 432x288 with 1 Axes>"
      ]
     },
     "metadata": {},
     "output_type": "display_data"
    }
   ],
   "source": [
    "sns.set() # sns 그래프의 기본 설정 (grid)\n",
    "plt.scatter([1,2,3], [4,5,6]) "
   ]
  },
  {
   "cell_type": "code",
   "execution_count": 61,
   "id": "a2c85ae1",
   "metadata": {},
   "outputs": [
    {
     "data": {
      "text/plain": [
       "<matplotlib.collections.PathCollection at 0x29fe9c1b370>"
      ]
     },
     "execution_count": 61,
     "metadata": {},
     "output_type": "execute_result"
    },
    {
     "data": {
      "image/png": "[encoded data removed]",
      "text/plain": [
       "<Figure size 432x288 with 1 Axes>"
      ]
     },
     "metadata": {},
     "output_type": "display_data"
    }
   ],
   "source": [
    "sns.set(style = 'white')\n",
    "plt.scatter([1,2,3], [4,5,6]) "
   ]
  },
  {
   "cell_type": "code",
   "execution_count": 59,
   "id": "c7e3f4a4",
   "metadata": {},
   "outputs": [
    {
     "data": {
      "text/plain": [
       "<matplotlib.collections.PathCollection at 0x29fe9b3bca0>"
      ]
     },
     "execution_count": 59,
     "metadata": {},
     "output_type": "execute_result"
    },
    {
     "data": {
      "image/png": "[encoded data removed]",
      "text/plain": [
       "<Figure size 432x288 with 1 Axes>"
      ]
     },
     "metadata": {},
     "output_type": "display_data"
    }
   ],
   "source": [
    "sns.set(style = 'whitegrid')\n",
    "plt.scatter([1,2,3], [4,5,6]) "
   ]
  },
  {
   "cell_type": "code",
   "execution_count": 60,
   "id": "758127a7",
   "metadata": {},
   "outputs": [
    {
     "data": {
      "text/plain": [
       "<matplotlib.collections.PathCollection at 0x29fe9babc70>"
      ]
     },
     "execution_count": 60,
     "metadata": {},
     "output_type": "execute_result"
    },
    {
     "data": {
      "image/png": "[encoded data removed]",
      "text/plain": [
       "<Figure size 432x288 with 1 Axes>"
      ]
     },
     "metadata": {},
     "output_type": "display_data"
    }
   ],
   "source": [
    "sns.set(style = 'dark')\n",
    "plt.scatter([1,2,3], [4,5,6]) "
   ]
  },
  {
   "cell_type": "code",
   "execution_count": 62,
   "id": "84c0d86b",
   "metadata": {},
   "outputs": [
    {
     "data": {
      "text/plain": [
       "<matplotlib.collections.PathCollection at 0x29fe9c7da90>"
      ]
     },
     "execution_count": 62,
     "metadata": {},
     "output_type": "execute_result"
    },
    {
     "data": {
      "image/png": "[encoded data removed]",
      "text/plain": [
       "<Figure size 432x288 with 1 Axes>"
      ]
     },
     "metadata": {},
     "output_type": "display_data"
    }
   ],
   "source": [
    "sns.set(style = 'darkgrid')\n",
    "plt.scatter([1,2,3], [4,5,6]) "
   ]
  },
  {
   "cell_type": "code",
   "execution_count": 63,
   "id": "a5f9c8f7",
   "metadata": {},
   "outputs": [
    {
     "data": {
      "text/plain": [
       "<matplotlib.collections.PathCollection at 0x29fe9cefbe0>"
      ]
     },
     "execution_count": 63,
     "metadata": {},
     "output_type": "execute_result"
    },
    {
     "data": {
      "image/png": "[encoded data removed]",
      "text/plain": [
       "<Figure size 432x288 with 1 Axes>"
      ]
     },
     "metadata": {},
     "output_type": "display_data"
    }
   ],
   "source": [
    "sns.set(style = 'ticks')\n",
    "plt.scatter([1,2,3], [4,5,6]) "
   ]
  },
  {
   "cell_type": "markdown",
   "id": "712ca2ee",
   "metadata": {},
   "source": [
    "선형 그래프 (plot)"
   ]
  },
  {
   "cell_type": "code",
   "execution_count": 65,
   "id": "db0e01e8",
   "metadata": {},
   "outputs": [
    {
     "data": {
      "text/plain": [
       "<matplotlib.legend.Legend at 0x29fe979cf10>"
      ]
     },
     "execution_count": 65,
     "metadata": {},
     "output_type": "execute_result"
    },
    {
     "data": {
      "image/png": "[encoded data removed]",
      "text/plain": [
       "<Figure size 432x288 with 1 Axes>"
      ]
     },
     "metadata": {},
     "output_type": "display_data"
    }
   ],
   "source": [
    "sns.set(style = 'whitegrid')\n",
    "plt.plot([1,2,3], [4,5,6], label = 'cty') \n",
    "plt.plot([6,7,8], [3,2,5], label = 'hwy')\n",
    "plt.legend()"
   ]
  },
  {
   "cell_type": "markdown",
   "id": "3f6d3417",
   "metadata": {},
   "source": [
    "- 색상 설정 (color)"
   ]
  },
  {
   "cell_type": "code",
   "execution_count": 68,
   "id": "af54157a",
   "metadata": {},
   "outputs": [
    {
     "data": {
      "text/plain": [
       "<matplotlib.legend.Legend at 0x29fee6832e0>"
      ]
     },
     "execution_count": 68,
     "metadata": {},
     "output_type": "execute_result"
    },
    {
     "data": {
      "image/png": "[encoded data removed]",
      "text/plain": [
       "<Figure size 432x288 with 1 Axes>"
      ]
     },
     "metadata": {},
     "output_type": "display_data"
    }
   ],
   "source": [
    "sns.set(style = 'whitegrid')\n",
    "plt.plot([1,2,3], [4,5,6], label = 'cty', color = 'r') \n",
    "plt.plot([6,7,8], [3,2,5], label = 'hwy', color = 'b')\n",
    "plt.legend()"
   ]
  },
  {
   "cell_type": "markdown",
   "id": "83de8f35",
   "metadata": {},
   "source": [
    "- 선 스타일, 두께 설정 (linestyle, linewidth)"
   ]
  },
  {
   "cell_type": "code",
   "execution_count": 73,
   "id": "34ad6684",
   "metadata": {},
   "outputs": [
    {
     "data": {
      "text/plain": [
       "<matplotlib.legend.Legend at 0x29fee730be0>"
      ]
     },
     "execution_count": 73,
     "metadata": {},
     "output_type": "execute_result"
    },
    {
     "data": {
      "image/png": "[encoded data removed]",
      "text/plain": [
       "<Figure size 432x288 with 1 Axes>"
      ]
     },
     "metadata": {},
     "output_type": "display_data"
    }
   ],
   "source": [
    "sns.set(style = 'whitegrid')\n",
    "plt.plot([1,2,3], [4,5,6], label = 'cty', color = 'r', linestyle = 'dashed', linewidth = 2) \n",
    "plt.plot([6,7,8], [3,2,5], label = 'hwy', color = 'b', linestyle = 'dotted', linewidth = 5)\n",
    "plt.plot([3,4,6], [2,4,5], label = 'displ', color = 'g', linestyle = 'solid', linewidth = 3)\n",
    "plt.legend()"
   ]
  },
  {
   "cell_type": "markdown",
   "id": "878c53a3",
   "metadata": {},
   "source": [
    "- 마커 설정 (marker)"
   ]
  },
  {
   "cell_type": "code",
   "execution_count": 77,
   "id": "6364f60a",
   "metadata": {},
   "outputs": [
    {
     "data": {
      "text/plain": [
       "<matplotlib.legend.Legend at 0x29fee93e610>"
      ]
     },
     "execution_count": 77,
     "metadata": {},
     "output_type": "execute_result"
    },
    {
     "data": {
      "image/png": "[encoded data removed]",
      "text/plain": [
       "<Figure size 432x288 with 1 Axes>"
      ]
     },
     "metadata": {},
     "output_type": "display_data"
    }
   ],
   "source": [
    "sns.set(style = 'whitegrid')\n",
    "plt.plot([1,2,3], [4,5,6], marker = 's', label = 'cty', color = 'r', linestyle = 'dashed', linewidth = 2)\n",
    "plt.plot([6,7,8], [3,2,5], marker = '*', label = 'hwy', color = 'b', linestyle = 'dotted', linewidth = 1)\n",
    "plt.legend()"
   ]
  },
  {
   "cell_type": "markdown",
   "id": "5d4c0d0d",
   "metadata": {},
   "source": [
    "- 투명도 설정"
   ]
  },
  {
   "cell_type": "code",
   "execution_count": 79,
   "id": "62022e9c",
   "metadata": {},
   "outputs": [],
   "source": [
    "import numpy as np"
   ]
  },
  {
   "cell_type": "code",
   "execution_count": 80,
   "id": "98195880",
   "metadata": {},
   "outputs": [],
   "source": [
    "x = np.random.normal(0,1,5000) # 평균이 0, 표준편차가 1인 정규분포에서 5000개 숫자 랜덤으로 추출\n",
    "y = np.random.normal(0,1,5000)"
   ]
  },
  {
   "cell_type": "code",
   "execution_count": 81,
   "id": "15f695b2",
   "metadata": {},
   "outputs": [
    {
     "data": {
      "text/plain": [
       "<matplotlib.collections.PathCollection at 0x29feea180a0>"
      ]
     },
     "execution_count": 81,
     "metadata": {},
     "output_type": "execute_result"
    },
    {
     "data": {
      "image/png": "[encoded data removed]",
      "text/plain": [
       "<Figure size 432x288 with 1 Axes>"
      ]
     },
     "metadata": {},
     "output_type": "display_data"
    }
   ],
   "source": [
    "plt.scatter(x,y,alpha = 0.05)"
   ]
  },
  {
   "cell_type": "code",
   "execution_count": 82,
   "id": "e7612000",
   "metadata": {},
   "outputs": [
    {
     "data": {
      "text/plain": [
       "<matplotlib.collections.PathCollection at 0x29feea82f40>"
      ]
     },
     "execution_count": 82,
     "metadata": {},
     "output_type": "execute_result"
    },
    {
     "data": {
      "image/png": "[encoded data removed]",
      "text/plain": [
       "<Figure size 432x288 with 1 Axes>"
      ]
     },
     "metadata": {},
     "output_type": "display_data"
    }
   ],
   "source": [
    "plt.scatter(x,y,alpha = 0.5)"
   ]
  },
  {
   "cell_type": "code",
   "execution_count": null,
   "id": "af5e0ab2",
   "metadata": {},
   "outputs": [],
   "source": []
  }
 ],
 "metadata": {
  "kernelspec": {
   "display_name": "Python 3 (ipykernel)",
   "language": "python",
   "name": "python3"
  },
  "language_info": {
   "codemirror_mode": {
    "name": "ipython",
    "version": 3
   },
   "file_extension": ".py",
   "mimetype": "text/x-python",
   "name": "python",
   "nbconvert_exporter": "python",
   "pygments_lexer": "ipython3",
   "version": "3.9.12"
  }
 },
 "nbformat": 4,
 "nbformat_minor": 5
}

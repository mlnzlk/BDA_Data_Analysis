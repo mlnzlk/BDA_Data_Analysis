{
 "cells": [
  {
   "cell_type": "code",
   "execution_count": 1,
   "id": "d71b88ab",
   "metadata": {},
   "outputs": [],
   "source": [
    "import pandas as pd"
   ]
  },
  {
   "cell_type": "code",
   "execution_count": 2,
   "id": "f37cef4e",
   "metadata": {},
   "outputs": [],
   "source": [
    "mpg = pd.read_csv(\"C:/Users/samsung/Desktop/datasets/mpg.csv\")"
   ]
  },
  {
   "cell_type": "code",
   "execution_count": 4,
   "id": "187a2c58",
   "metadata": {},
   "outputs": [
    {
     "data": {
      "text/html": [
       "<div>\n",
       "<style scoped>\n",
       "    .dataframe tbody tr th:only-of-type {\n",
       "        vertical-align: middle;\n",
       "    }\n",
       "\n",
       "    .dataframe tbody tr th {\n",
       "        vertical-align: top;\n",
       "    }\n",
       "\n",
       "    .dataframe thead th {\n",
       "        text-align: right;\n",
       "    }\n",
       "</style>\n",
       "<table border=\"1\" class=\"dataframe\">\n",
       "  <thead>\n",
       "    <tr style=\"text-align: right;\">\n",
       "      <th></th>\n",
       "      <th>manufacturer</th>\n",
       "      <th>model</th>\n",
       "      <th>displ</th>\n",
       "      <th>year</th>\n",
       "      <th>cyl</th>\n",
       "      <th>trans</th>\n",
       "      <th>drv</th>\n",
       "      <th>cty</th>\n",
       "      <th>hwy</th>\n",
       "      <th>fl</th>\n",
       "      <th>class</th>\n",
       "    </tr>\n",
       "  </thead>\n",
       "  <tbody>\n",
       "    <tr>\n",
       "      <th>0</th>\n",
       "      <td>audi</td>\n",
       "      <td>a4</td>\n",
       "      <td>1.8</td>\n",
       "      <td>1999</td>\n",
       "      <td>4</td>\n",
       "      <td>auto(l5)</td>\n",
       "      <td>f</td>\n",
       "      <td>18</td>\n",
       "      <td>29</td>\n",
       "      <td>p</td>\n",
       "      <td>compact</td>\n",
       "    </tr>\n",
       "    <tr>\n",
       "      <th>1</th>\n",
       "      <td>audi</td>\n",
       "      <td>a4</td>\n",
       "      <td>1.8</td>\n",
       "      <td>1999</td>\n",
       "      <td>4</td>\n",
       "      <td>manual(m5)</td>\n",
       "      <td>f</td>\n",
       "      <td>21</td>\n",
       "      <td>29</td>\n",
       "      <td>p</td>\n",
       "      <td>compact</td>\n",
       "    </tr>\n",
       "    <tr>\n",
       "      <th>2</th>\n",
       "      <td>audi</td>\n",
       "      <td>a4</td>\n",
       "      <td>2.0</td>\n",
       "      <td>2008</td>\n",
       "      <td>4</td>\n",
       "      <td>manual(m6)</td>\n",
       "      <td>f</td>\n",
       "      <td>20</td>\n",
       "      <td>31</td>\n",
       "      <td>p</td>\n",
       "      <td>compact</td>\n",
       "    </tr>\n",
       "    <tr>\n",
       "      <th>3</th>\n",
       "      <td>audi</td>\n",
       "      <td>a4</td>\n",
       "      <td>2.0</td>\n",
       "      <td>2008</td>\n",
       "      <td>4</td>\n",
       "      <td>auto(av)</td>\n",
       "      <td>f</td>\n",
       "      <td>21</td>\n",
       "      <td>30</td>\n",
       "      <td>p</td>\n",
       "      <td>compact</td>\n",
       "    </tr>\n",
       "    <tr>\n",
       "      <th>4</th>\n",
       "      <td>audi</td>\n",
       "      <td>a4</td>\n",
       "      <td>2.8</td>\n",
       "      <td>1999</td>\n",
       "      <td>6</td>\n",
       "      <td>auto(l5)</td>\n",
       "      <td>f</td>\n",
       "      <td>16</td>\n",
       "      <td>26</td>\n",
       "      <td>p</td>\n",
       "      <td>compact</td>\n",
       "    </tr>\n",
       "    <tr>\n",
       "      <th>...</th>\n",
       "      <td>...</td>\n",
       "      <td>...</td>\n",
       "      <td>...</td>\n",
       "      <td>...</td>\n",
       "      <td>...</td>\n",
       "      <td>...</td>\n",
       "      <td>...</td>\n",
       "      <td>...</td>\n",
       "      <td>...</td>\n",
       "      <td>...</td>\n",
       "      <td>...</td>\n",
       "    </tr>\n",
       "    <tr>\n",
       "      <th>229</th>\n",
       "      <td>volkswagen</td>\n",
       "      <td>passat</td>\n",
       "      <td>2.0</td>\n",
       "      <td>2008</td>\n",
       "      <td>4</td>\n",
       "      <td>auto(s6)</td>\n",
       "      <td>f</td>\n",
       "      <td>19</td>\n",
       "      <td>28</td>\n",
       "      <td>p</td>\n",
       "      <td>midsize</td>\n",
       "    </tr>\n",
       "    <tr>\n",
       "      <th>230</th>\n",
       "      <td>volkswagen</td>\n",
       "      <td>passat</td>\n",
       "      <td>2.0</td>\n",
       "      <td>2008</td>\n",
       "      <td>4</td>\n",
       "      <td>manual(m6)</td>\n",
       "      <td>f</td>\n",
       "      <td>21</td>\n",
       "      <td>29</td>\n",
       "      <td>p</td>\n",
       "      <td>midsize</td>\n",
       "    </tr>\n",
       "    <tr>\n",
       "      <th>231</th>\n",
       "      <td>volkswagen</td>\n",
       "      <td>passat</td>\n",
       "      <td>2.8</td>\n",
       "      <td>1999</td>\n",
       "      <td>6</td>\n",
       "      <td>auto(l5)</td>\n",
       "      <td>f</td>\n",
       "      <td>16</td>\n",
       "      <td>26</td>\n",
       "      <td>p</td>\n",
       "      <td>midsize</td>\n",
       "    </tr>\n",
       "    <tr>\n",
       "      <th>232</th>\n",
       "      <td>volkswagen</td>\n",
       "      <td>passat</td>\n",
       "      <td>2.8</td>\n",
       "      <td>1999</td>\n",
       "      <td>6</td>\n",
       "      <td>manual(m5)</td>\n",
       "      <td>f</td>\n",
       "      <td>18</td>\n",
       "      <td>26</td>\n",
       "      <td>p</td>\n",
       "      <td>midsize</td>\n",
       "    </tr>\n",
       "    <tr>\n",
       "      <th>233</th>\n",
       "      <td>volkswagen</td>\n",
       "      <td>passat</td>\n",
       "      <td>3.6</td>\n",
       "      <td>2008</td>\n",
       "      <td>6</td>\n",
       "      <td>auto(s6)</td>\n",
       "      <td>f</td>\n",
       "      <td>17</td>\n",
       "      <td>26</td>\n",
       "      <td>p</td>\n",
       "      <td>midsize</td>\n",
       "    </tr>\n",
       "  </tbody>\n",
       "</table>\n",
       "<p>234 rows × 11 columns</p>\n",
       "</div>"
      ],
      "text/plain": [
       "    manufacturer   model  displ  year  cyl       trans drv  cty  hwy fl  \\\n",
       "0           audi      a4    1.8  1999    4    auto(l5)   f   18   29  p   \n",
       "1           audi      a4    1.8  1999    4  manual(m5)   f   21   29  p   \n",
       "2           audi      a4    2.0  2008    4  manual(m6)   f   20   31  p   \n",
       "3           audi      a4    2.0  2008    4    auto(av)   f   21   30  p   \n",
       "4           audi      a4    2.8  1999    6    auto(l5)   f   16   26  p   \n",
       "..           ...     ...    ...   ...  ...         ...  ..  ...  ... ..   \n",
       "229   volkswagen  passat    2.0  2008    4    auto(s6)   f   19   28  p   \n",
       "230   volkswagen  passat    2.0  2008    4  manual(m6)   f   21   29  p   \n",
       "231   volkswagen  passat    2.8  1999    6    auto(l5)   f   16   26  p   \n",
       "232   volkswagen  passat    2.8  1999    6  manual(m5)   f   18   26  p   \n",
       "233   volkswagen  passat    3.6  2008    6    auto(s6)   f   17   26  p   \n",
       "\n",
       "       class  \n",
       "0    compact  \n",
       "1    compact  \n",
       "2    compact  \n",
       "3    compact  \n",
       "4    compact  \n",
       "..       ...  \n",
       "229  midsize  \n",
       "230  midsize  \n",
       "231  midsize  \n",
       "232  midsize  \n",
       "233  midsize  \n",
       "\n",
       "[234 rows x 11 columns]"
      ]
     },
     "execution_count": 4,
     "metadata": {},
     "output_type": "execute_result"
    }
   ],
   "source": [
    "mpg"
   ]
  },
  {
   "cell_type": "markdown",
   "id": "65c4ba72",
   "metadata": {},
   "source": [
    "append"
   ]
  },
  {
   "cell_type": "code",
   "execution_count": 5,
   "id": "86330622",
   "metadata": {},
   "outputs": [],
   "source": [
    "a = mpg.model\n",
    "b = mpg.displ"
   ]
  },
  {
   "cell_type": "code",
   "execution_count": 6,
   "id": "155a5e46",
   "metadata": {},
   "outputs": [
    {
     "name": "stderr",
     "output_type": "stream",
     "text": [
      "C:\\Users\\samsung\\AppData\\Local\\Temp\\ipykernel_28260\\2735396570.py:1: FutureWarning: The series.append method is deprecated and will be removed from pandas in a future version. Use pandas.concat instead.\n",
      "  a.append(b)\n"
     ]
    },
    {
     "data": {
      "text/plain": [
       "0       a4\n",
       "1       a4\n",
       "2       a4\n",
       "3       a4\n",
       "4       a4\n",
       "      ... \n",
       "229    2.0\n",
       "230    2.0\n",
       "231    2.8\n",
       "232    2.8\n",
       "233    3.6\n",
       "Length: 468, dtype: object"
      ]
     },
     "execution_count": 6,
     "metadata": {},
     "output_type": "execute_result"
    }
   ],
   "source": [
    "a.append(b) # 시리즈 a와 b를 연결해 출력"
   ]
  },
  {
   "cell_type": "markdown",
   "id": "1f9f13e8",
   "metadata": {},
   "source": [
    "describe"
   ]
  },
  {
   "cell_type": "code",
   "execution_count": 7,
   "id": "b2580a62",
   "metadata": {},
   "outputs": [
    {
     "data": {
      "text/plain": [
       "count    234.000000\n",
       "mean       3.471795\n",
       "std        1.291959\n",
       "min        1.600000\n",
       "25%        2.400000\n",
       "50%        3.300000\n",
       "75%        4.600000\n",
       "max        7.000000\n",
       "Name: displ, dtype: float64"
      ]
     },
     "execution_count": 7,
     "metadata": {},
     "output_type": "execute_result"
    }
   ],
   "source": [
    "mpg.displ.describe()\n",
    "# 시리즈의 요약통계 출력\n",
    "# 수치형 데이터만 가능하며, 평균, 중앙값, 최솟값, 최댓값 등을 확인할 수 있음"
   ]
  },
  {
   "cell_type": "markdown",
   "id": "0e9a4e6b",
   "metadata": {},
   "source": [
    "drop_duplicates()"
   ]
  },
  {
   "cell_type": "code",
   "execution_count": 9,
   "id": "b4afd35d",
   "metadata": {},
   "outputs": [
    {
     "data": {
      "text/plain": [
       "0            audi\n",
       "18      chevrolet\n",
       "37          dodge\n",
       "74           ford\n",
       "99          honda\n",
       "108       hyundai\n",
       "122          jeep\n",
       "130    land rover\n",
       "134       lincoln\n",
       "137       mercury\n",
       "141        nissan\n",
       "154       pontiac\n",
       "159        subaru\n",
       "173        toyota\n",
       "207    volkswagen\n",
       "Name: manufacturer, dtype: object"
      ]
     },
     "execution_count": 9,
     "metadata": {},
     "output_type": "execute_result"
    }
   ],
   "source": [
    "mpg.manufacturer.drop_duplicates()\n",
    "# 시리즈에서 중복된 값을 제외하고 추출\n",
    "# 중복되는 값 중 가장 첫 번째에 위치한 값만 추출"
   ]
  },
  {
   "cell_type": "markdown",
   "id": "62ae78c2",
   "metadata": {},
   "source": [
    "get_values()"
   ]
  },
  {
   "cell_type": "code",
   "execution_count": 36,
   "id": "6aaada51",
   "metadata": {
    "scrolled": true
   },
   "outputs": [
    {
     "ename": "AttributeError",
     "evalue": "'Series' object has no attribute 'get_values'",
     "output_type": "error",
     "traceback": [
      "\u001b[1;31m---------------------------------------------------------------------------\u001b[0m",
      "\u001b[1;31mAttributeError\u001b[0m                            Traceback (most recent call last)",
      "Input \u001b[1;32mIn [36]\u001b[0m, in \u001b[0;36m<cell line: 1>\u001b[1;34m()\u001b[0m\n\u001b[1;32m----> 1\u001b[0m \u001b[43mmpg\u001b[49m\u001b[38;5;241;43m.\u001b[39;49m\u001b[43mmodel\u001b[49m\u001b[38;5;241;43m.\u001b[39;49m\u001b[43mget_values\u001b[49m()\n",
      "File \u001b[1;32m~\\anaconda3\\lib\\site-packages\\pandas\\core\\generic.py:5575\u001b[0m, in \u001b[0;36mNDFrame.__getattr__\u001b[1;34m(self, name)\u001b[0m\n\u001b[0;32m   5568\u001b[0m \u001b[38;5;28;01mif\u001b[39;00m (\n\u001b[0;32m   5569\u001b[0m     name \u001b[38;5;129;01mnot\u001b[39;00m \u001b[38;5;129;01min\u001b[39;00m \u001b[38;5;28mself\u001b[39m\u001b[38;5;241m.\u001b[39m_internal_names_set\n\u001b[0;32m   5570\u001b[0m     \u001b[38;5;129;01mand\u001b[39;00m name \u001b[38;5;129;01mnot\u001b[39;00m \u001b[38;5;129;01min\u001b[39;00m \u001b[38;5;28mself\u001b[39m\u001b[38;5;241m.\u001b[39m_metadata\n\u001b[0;32m   5571\u001b[0m     \u001b[38;5;129;01mand\u001b[39;00m name \u001b[38;5;129;01mnot\u001b[39;00m \u001b[38;5;129;01min\u001b[39;00m \u001b[38;5;28mself\u001b[39m\u001b[38;5;241m.\u001b[39m_accessors\n\u001b[0;32m   5572\u001b[0m     \u001b[38;5;129;01mand\u001b[39;00m \u001b[38;5;28mself\u001b[39m\u001b[38;5;241m.\u001b[39m_info_axis\u001b[38;5;241m.\u001b[39m_can_hold_identifiers_and_holds_name(name)\n\u001b[0;32m   5573\u001b[0m ):\n\u001b[0;32m   5574\u001b[0m     \u001b[38;5;28;01mreturn\u001b[39;00m \u001b[38;5;28mself\u001b[39m[name]\n\u001b[1;32m-> 5575\u001b[0m \u001b[38;5;28;01mreturn\u001b[39;00m \u001b[38;5;28;43mobject\u001b[39;49m\u001b[38;5;241;43m.\u001b[39;49m\u001b[38;5;21;43m__getattribute__\u001b[39;49m\u001b[43m(\u001b[49m\u001b[38;5;28;43mself\u001b[39;49m\u001b[43m,\u001b[49m\u001b[43m \u001b[49m\u001b[43mname\u001b[49m\u001b[43m)\u001b[49m\n",
      "\u001b[1;31mAttributeError\u001b[0m: 'Series' object has no attribute 'get_values'"
     ]
    }
   ],
   "source": [
    "mpg.model.get_values() # 시리즈에서 get_values 함수를 지원하지 않는다는 오류 발생"
   ]
  },
  {
   "cell_type": "code",
   "execution_count": 37,
   "id": "c65c17b7",
   "metadata": {
    "scrolled": true
   },
   "outputs": [
    {
     "data": {
      "text/plain": [
       "array(['a4', 'a4', 'a4', 'a4', 'a4', 'a4', 'a4', 'a4 quattro',\n",
       "       'a4 quattro', 'a4 quattro', 'a4 quattro', 'a4 quattro',\n",
       "       'a4 quattro', 'a4 quattro', 'a4 quattro', 'a6 quattro',\n",
       "       'a6 quattro', 'a6 quattro', 'c1500 suburban 2wd',\n",
       "       'c1500 suburban 2wd', 'c1500 suburban 2wd', 'c1500 suburban 2wd',\n",
       "       'c1500 suburban 2wd', 'corvette', 'corvette', 'corvette',\n",
       "       'corvette', 'corvette', 'k1500 tahoe 4wd', 'k1500 tahoe 4wd',\n",
       "       'k1500 tahoe 4wd', 'k1500 tahoe 4wd', 'malibu', 'malibu', 'malibu',\n",
       "       'malibu', 'malibu', 'caravan 2wd', 'caravan 2wd', 'caravan 2wd',\n",
       "       'caravan 2wd', 'caravan 2wd', 'caravan 2wd', 'caravan 2wd',\n",
       "       'caravan 2wd', 'caravan 2wd', 'caravan 2wd', 'caravan 2wd',\n",
       "       'dakota pickup 4wd', 'dakota pickup 4wd', 'dakota pickup 4wd',\n",
       "       'dakota pickup 4wd', 'dakota pickup 4wd', 'dakota pickup 4wd',\n",
       "       'dakota pickup 4wd', 'dakota pickup 4wd', 'dakota pickup 4wd',\n",
       "       'durango 4wd', 'durango 4wd', 'durango 4wd', 'durango 4wd',\n",
       "       'durango 4wd', 'durango 4wd', 'durango 4wd', 'ram 1500 pickup 4wd',\n",
       "       'ram 1500 pickup 4wd', 'ram 1500 pickup 4wd',\n",
       "       'ram 1500 pickup 4wd', 'ram 1500 pickup 4wd',\n",
       "       'ram 1500 pickup 4wd', 'ram 1500 pickup 4wd',\n",
       "       'ram 1500 pickup 4wd', 'ram 1500 pickup 4wd',\n",
       "       'ram 1500 pickup 4wd', 'expedition 2wd', 'expedition 2wd',\n",
       "       'expedition 2wd', 'explorer 4wd', 'explorer 4wd', 'explorer 4wd',\n",
       "       'explorer 4wd', 'explorer 4wd', 'explorer 4wd', 'f150 pickup 4wd',\n",
       "       'f150 pickup 4wd', 'f150 pickup 4wd', 'f150 pickup 4wd',\n",
       "       'f150 pickup 4wd', 'f150 pickup 4wd', 'f150 pickup 4wd', 'mustang',\n",
       "       'mustang', 'mustang', 'mustang', 'mustang', 'mustang', 'mustang',\n",
       "       'mustang', 'mustang', 'civic', 'civic', 'civic', 'civic', 'civic',\n",
       "       'civic', 'civic', 'civic', 'civic', 'sonata', 'sonata', 'sonata',\n",
       "       'sonata', 'sonata', 'sonata', 'sonata', 'tiburon', 'tiburon',\n",
       "       'tiburon', 'tiburon', 'tiburon', 'tiburon', 'tiburon',\n",
       "       'grand cherokee 4wd', 'grand cherokee 4wd', 'grand cherokee 4wd',\n",
       "       'grand cherokee 4wd', 'grand cherokee 4wd', 'grand cherokee 4wd',\n",
       "       'grand cherokee 4wd', 'grand cherokee 4wd', 'range rover',\n",
       "       'range rover', 'range rover', 'range rover', 'navigator 2wd',\n",
       "       'navigator 2wd', 'navigator 2wd', 'mountaineer 4wd',\n",
       "       'mountaineer 4wd', 'mountaineer 4wd', 'mountaineer 4wd', 'altima',\n",
       "       'altima', 'altima', 'altima', 'altima', 'altima', 'maxima',\n",
       "       'maxima', 'maxima', 'pathfinder 4wd', 'pathfinder 4wd',\n",
       "       'pathfinder 4wd', 'pathfinder 4wd', 'grand prix', 'grand prix',\n",
       "       'grand prix', 'grand prix', 'grand prix', 'forester awd',\n",
       "       'forester awd', 'forester awd', 'forester awd', 'forester awd',\n",
       "       'forester awd', 'impreza awd', 'impreza awd', 'impreza awd',\n",
       "       'impreza awd', 'impreza awd', 'impreza awd', 'impreza awd',\n",
       "       'impreza awd', '4runner 4wd', '4runner 4wd', '4runner 4wd',\n",
       "       '4runner 4wd', '4runner 4wd', '4runner 4wd', 'camry', 'camry',\n",
       "       'camry', 'camry', 'camry', 'camry', 'camry', 'camry solara',\n",
       "       'camry solara', 'camry solara', 'camry solara', 'camry solara',\n",
       "       'camry solara', 'camry solara', 'corolla', 'corolla', 'corolla',\n",
       "       'corolla', 'corolla', 'land cruiser wagon 4wd',\n",
       "       'land cruiser wagon 4wd', 'toyota tacoma 4wd', 'toyota tacoma 4wd',\n",
       "       'toyota tacoma 4wd', 'toyota tacoma 4wd', 'toyota tacoma 4wd',\n",
       "       'toyota tacoma 4wd', 'toyota tacoma 4wd', 'gti', 'gti', 'gti',\n",
       "       'gti', 'gti', 'jetta', 'jetta', 'jetta', 'jetta', 'jetta', 'jetta',\n",
       "       'jetta', 'jetta', 'jetta', 'new beetle', 'new beetle',\n",
       "       'new beetle', 'new beetle', 'new beetle', 'new beetle', 'passat',\n",
       "       'passat', 'passat', 'passat', 'passat', 'passat', 'passat'],\n",
       "      dtype=object)"
      ]
     },
     "execution_count": 37,
     "metadata": {},
     "output_type": "execute_result"
    }
   ],
   "source": [
    "mpg.model.to_numpy()\n",
    "# to_numpy()를 활용해 시리즈의 값을 배열 형태로 반환"
   ]
  },
  {
   "cell_type": "markdown",
   "id": "17702ece",
   "metadata": {},
   "source": [
    "isin"
   ]
  },
  {
   "cell_type": "code",
   "execution_count": 20,
   "id": "6e316f69",
   "metadata": {},
   "outputs": [
    {
     "data": {
      "text/plain": [
       "0       True\n",
       "1       True\n",
       "2       True\n",
       "3       True\n",
       "4       True\n",
       "       ...  \n",
       "229    False\n",
       "230    False\n",
       "231    False\n",
       "232    False\n",
       "233    False\n",
       "Name: class, Length: 234, dtype: bool"
      ]
     },
     "execution_count": 20,
     "metadata": {},
     "output_type": "execute_result"
    }
   ],
   "source": [
    "mpg['class'].isin(['compact'])\n",
    "# 시리즈에 특정 값이 있는지 확인 (확인하고자 하는 값을 리스트 형태로 입력)\n",
    "# 값이 있는 경우 True, 없는 경우 False 반환"
   ]
  },
  {
   "cell_type": "markdown",
   "id": "d2c143f2",
   "metadata": {},
   "source": [
    "mean"
   ]
  },
  {
   "cell_type": "code",
   "execution_count": 28,
   "id": "650d5787",
   "metadata": {},
   "outputs": [
    {
     "name": "stdout",
     "output_type": "stream",
     "text": [
      "23.44017094017094\n",
      "44\n",
      "12\n",
      "24.0\n"
     ]
    }
   ],
   "source": [
    "print(mpg['hwy'].mean()) # 시리즈의 평균 계산\n",
    "print(mpg['hwy'].max()) # 시리즈의 최댓값 계산\n",
    "print(mpg['hwy'].min()) # 시리즈의 최솟값 계산\n",
    "print(mpg['hwy'].median()) # 시리즈의 중앙값 계산"
   ]
  },
  {
   "cell_type": "markdown",
   "id": "5825f148",
   "metadata": {},
   "source": [
    "equals"
   ]
  },
  {
   "cell_type": "code",
   "execution_count": 27,
   "id": "931663fd",
   "metadata": {},
   "outputs": [
    {
     "data": {
      "text/plain": [
       "False"
      ]
     },
     "execution_count": 27,
     "metadata": {},
     "output_type": "execute_result"
    }
   ],
   "source": [
    "mpg['cty'].equals(['hwy'])\n",
    "# 시리즈가 동일한지 판단해 True/False 반환"
   ]
  },
  {
   "cell_type": "markdown",
   "id": "6d75a3b9",
   "metadata": {},
   "source": [
    "sort_values()"
   ]
  },
  {
   "cell_type": "code",
   "execution_count": 29,
   "id": "7285e093",
   "metadata": {},
   "outputs": [
    {
     "data": {
      "text/plain": [
       "0      4\n",
       "171    4\n",
       "170    4\n",
       "169    4\n",
       "168    4\n",
       "      ..\n",
       "60     8\n",
       "59     8\n",
       "58     8\n",
       "25     8\n",
       "71     8\n",
       "Name: cyl, Length: 234, dtype: int64"
      ]
     },
     "execution_count": 29,
     "metadata": {},
     "output_type": "execute_result"
    }
   ],
   "source": [
    "mpg.cyl.sort_values()\n",
    "# 시리즈의 값 정렬\n",
    "# ascending = True (오름차순)이 디폴트"
   ]
  },
  {
   "cell_type": "code",
   "execution_count": 31,
   "id": "e0305f01",
   "metadata": {},
   "outputs": [
    {
     "data": {
      "text/plain": [
       "53     8\n",
       "136    8\n",
       "56     8\n",
       "55     8\n",
       "54     8\n",
       "      ..\n",
       "144    4\n",
       "143    4\n",
       "142    4\n",
       "141    4\n",
       "117    4\n",
       "Name: cyl, Length: 234, dtype: int64"
      ]
     },
     "execution_count": 31,
     "metadata": {},
     "output_type": "execute_result"
    }
   ],
   "source": [
    "mpg.cyl.sort_values(ascending = False) # 내림차순 정렬"
   ]
  },
  {
   "cell_type": "markdown",
   "id": "1bc442e2",
   "metadata": {},
   "source": [
    "to_frame()"
   ]
  },
  {
   "cell_type": "code",
   "execution_count": 33,
   "id": "5646b462",
   "metadata": {},
   "outputs": [
    {
     "data": {
      "text/html": [
       "<div>\n",
       "<style scoped>\n",
       "    .dataframe tbody tr th:only-of-type {\n",
       "        vertical-align: middle;\n",
       "    }\n",
       "\n",
       "    .dataframe tbody tr th {\n",
       "        vertical-align: top;\n",
       "    }\n",
       "\n",
       "    .dataframe thead th {\n",
       "        text-align: right;\n",
       "    }\n",
       "</style>\n",
       "<table border=\"1\" class=\"dataframe\">\n",
       "  <thead>\n",
       "    <tr style=\"text-align: right;\">\n",
       "      <th></th>\n",
       "      <th>model</th>\n",
       "    </tr>\n",
       "  </thead>\n",
       "  <tbody>\n",
       "    <tr>\n",
       "      <th>0</th>\n",
       "      <td>a4</td>\n",
       "    </tr>\n",
       "    <tr>\n",
       "      <th>1</th>\n",
       "      <td>a4</td>\n",
       "    </tr>\n",
       "    <tr>\n",
       "      <th>2</th>\n",
       "      <td>a4</td>\n",
       "    </tr>\n",
       "    <tr>\n",
       "      <th>3</th>\n",
       "      <td>a4</td>\n",
       "    </tr>\n",
       "    <tr>\n",
       "      <th>4</th>\n",
       "      <td>a4</td>\n",
       "    </tr>\n",
       "    <tr>\n",
       "      <th>...</th>\n",
       "      <td>...</td>\n",
       "    </tr>\n",
       "    <tr>\n",
       "      <th>229</th>\n",
       "      <td>passat</td>\n",
       "    </tr>\n",
       "    <tr>\n",
       "      <th>230</th>\n",
       "      <td>passat</td>\n",
       "    </tr>\n",
       "    <tr>\n",
       "      <th>231</th>\n",
       "      <td>passat</td>\n",
       "    </tr>\n",
       "    <tr>\n",
       "      <th>232</th>\n",
       "      <td>passat</td>\n",
       "    </tr>\n",
       "    <tr>\n",
       "      <th>233</th>\n",
       "      <td>passat</td>\n",
       "    </tr>\n",
       "  </tbody>\n",
       "</table>\n",
       "<p>234 rows × 1 columns</p>\n",
       "</div>"
      ],
      "text/plain": [
       "      model\n",
       "0        a4\n",
       "1        a4\n",
       "2        a4\n",
       "3        a4\n",
       "4        a4\n",
       "..      ...\n",
       "229  passat\n",
       "230  passat\n",
       "231  passat\n",
       "232  passat\n",
       "233  passat\n",
       "\n",
       "[234 rows x 1 columns]"
      ]
     },
     "execution_count": 33,
     "metadata": {},
     "output_type": "execute_result"
    }
   ],
   "source": [
    "mpg.model.to_frame()\n",
    "# 시리즈를 데이터프레임 형태로 변환\n",
    "# 컬럼이 1개임에도 데이터프레임 형태로 출력 가능"
   ]
  },
  {
   "cell_type": "code",
   "execution_count": null,
   "id": "3f7fa01e",
   "metadata": {},
   "outputs": [],
   "source": []
  }
 ],
 "metadata": {
  "kernelspec": {
   "display_name": "Python 3 (ipykernel)",
   "language": "python",
   "name": "python3"
  },
  "language_info": {
   "codemirror_mode": {
    "name": "ipython",
    "version": 3
   },
   "file_extension": ".py",
   "mimetype": "text/x-python",
   "name": "python",
   "nbconvert_exporter": "python",
   "pygments_lexer": "ipython3",
   "version": "3.9.12"
  }
 },
 "nbformat": 4,
 "nbformat_minor": 5
}
